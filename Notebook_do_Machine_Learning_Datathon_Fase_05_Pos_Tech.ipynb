{
  "cells": [
    {
      "cell_type": "markdown",
      "metadata": {
        "id": "view-in-github",
        "colab_type": "text"
      },
      "source": [
        "<a href=\"https://colab.research.google.com/github/adriellisantos/postech-fase05/blob/main/Notebook_do_Machine_Learning_Datathon_Fase_05_Pos_Tech.ipynb\" target=\"_parent\"><img src=\"https://colab.research.google.com/assets/colab-badge.svg\" alt=\"Open In Colab\"/></a>"
      ]
    },
    {
      "cell_type": "markdown",
      "metadata": {
        "id": "u5xAH0hB1zOM"
      },
      "source": [
        "# Carregamento, Tratamento e Limpeza dos Dados"
      ]
    },
    {
      "cell_type": "code",
      "execution_count": 61,
      "metadata": {
        "id": "WGb8dXvzMBvy"
      },
      "outputs": [],
      "source": [
        "#Importação das bibliotecas que serão utilizadas durante o processo\n",
        "\n",
        "import numpy as np\n",
        "import pandas as pd\n",
        "import datetime as dt\n",
        "import warnings\n",
        "import re\n",
        "import matplotlib.pyplot as plt\n",
        "import seaborn as sns\n",
        "\n",
        "from sentence_transformers import SentenceTransformer\n",
        "from sklearn.model_selection import train_test_split\n",
        "from sklearn.metrics.pairwise import cosine_similarity\n",
        "\n",
        "warnings.filterwarnings(\"ignore\")"
      ]
    },
    {
      "cell_type": "code",
      "execution_count": 62,
      "metadata": {
        "id": "s7kxNLuvMDuq"
      },
      "outputs": [],
      "source": [
        "# Lê o arquivo JSON \"applicants.json\" e carrega em um DataFrame do pandas. Indica que as chaves do JSON devem ser interpretadas como índices do DataFrame\n",
        "df_applicants = pd.read_json('bases/applicants.json', orient='index')\n",
        "\n",
        "# Normaliza as colunas que contém objetos/dicionários aninhados, transformando cada chave do dicionário em uma coluna separada.\n",
        "df_infomacoes_basicas = pd.json_normalize(df_applicants['infos_basicas'])\n",
        "df_informacoes_pessoais = pd.json_normalize(df_applicants['informacoes_pessoais'])\n",
        "df_informacoes_profissionais = pd.json_normalize(df_applicants['informacoes_profissionais'])\n",
        "df_formacao_idiomas = pd.json_normalize(df_applicants['formacao_e_idiomas'])\n",
        "df_cargo = pd.json_normalize(df_applicants['cargo_atual'])\n",
        "\n",
        "#Junta lado a lado todos os DataFrames criados acima em um único DataFrame com todas as informações dos candidatos\n",
        "df_applicants = pd.concat([df_infomacoes_basicas, df_informacoes_pessoais, df_informacoes_profissionais, df_formacao_idiomas, df_cargo], axis=1)"
      ]
    },
    {
      "cell_type": "code",
      "execution_count": 63,
      "metadata": {
        "id": "XN7FIqltMD24"
      },
      "outputs": [],
      "source": [
        "# Realiza a leitura \"vagas.json\" e carrega em um DataFrame do pandas. Indica que as chaves do JSON devem ser interpretadas como índices do DataFrame\n",
        "df_vagas = pd.read_json('bases/vagas.json', orient='index')\n",
        "\n",
        "#Redefine o índice do DataFrame 'df_vagas', transformando o índice atual em uma coluna\n",
        "df_vagas.reset_index(inplace=True)\n",
        "df_vagas.rename(columns={\"index\": \"codigo_vaga\"}, inplace=True)\n",
        "\n",
        "# Renomeia a nova coluna criada para \"codigo_vaga\", representando o código/identificador da vaga.\n",
        "df_vagas_infomacoes_basicas = pd.json_normalize(df_vagas['informacoes_basicas'])\n",
        "df_vagas_perfil = pd.json_normalize(df_vagas['perfil_vaga'])\n",
        "df_vagas_beneficios = pd.json_normalize(df_vagas['beneficios'])\n",
        "\n",
        "# Concatena  coluna 'codigo_vaga', os dados  de informações básicas, o perfil da vaga, os benefícios em um único DataFrame\n",
        "df_vagas = pd.concat([df_vagas[['codigo_vaga']], df_vagas_infomacoes_basicas, df_vagas_perfil, df_vagas_beneficios], axis=1)"
      ]
    },
    {
      "cell_type": "code",
      "execution_count": 64,
      "metadata": {
        "id": "M9U_fufOMnu6"
      },
      "outputs": [],
      "source": [
        "#Realiza a leitura arquivo JSON \"prospects.json\" e carrega em um DataFrame.\n",
        "df_prospects = pd.read_json('bases/prospects.json', orient='index')\n",
        "\n",
        "#Redefine o índice do DataFrame, transformando o índice original em uma coluna.\n",
        "df_prospects.reset_index(inplace=True)\n",
        "#Renomeia a coluna criada a partir do índice para \"codigo_vaga\",\n",
        "df_prospects.rename(columns={\"index\": \"codigo_vaga\"}, inplace=True)\n",
        "\n",
        "df_prospects = df_prospects.explode('prospects').reset_index(drop=True)\n",
        "df_prospects_detalhado = pd.json_normalize(df_prospects['prospects'])\n",
        "\n",
        "# Concatena os dados\n",
        "df_prospects = pd.concat([df_prospects.drop(columns=['prospects']), df_prospects_detalhado], axis=1)"
      ]
    },
    {
      "cell_type": "code",
      "execution_count": 65,
      "metadata": {
        "id": "aSemogJYMxwp"
      },
      "outputs": [],
      "source": [
        "#Remove colunas duplicadas do DataFrame df_applicants,mantendo apenas a primeira ocorrência de cada coluna\n",
        "df_applicants = df_applicants.loc[:, ~df_applicants.columns.duplicated(keep='first')]"
      ]
    },
    {
      "cell_type": "code",
      "execution_count": 66,
      "metadata": {
        "colab": {
          "base_uri": "https://localhost:8080/"
        },
        "id": "pPPPgYWkM9AJ",
        "outputId": "4f638463-bc2c-4c60-f269-f603c6a3cac7"
      },
      "outputs": [
        {
          "output_type": "execute_result",
          "data": {
            "text/plain": [
              "Index(['codigo_vaga', 'data_requicisao', 'limite_esperado_para_contratacao',\n",
              "       'titulo_vaga', 'vaga_sap', 'cliente', 'solicitante_cliente',\n",
              "       'empresa_divisao', 'requisitante', 'analista_responsavel',\n",
              "       'tipo_contratacao', 'prazo_contratacao', 'objetivo_vaga',\n",
              "       'prioridade_vaga', 'origem_vaga', 'superior_imediato', 'nome',\n",
              "       'telefone', 'data_inicial', 'data_final', 'nome_substituto', 'pais',\n",
              "       'estado', 'cidade', 'bairro', 'regiao', 'local_trabalho',\n",
              "       'vaga_especifica_para_pcd', 'faixa_etaria', 'horario_trabalho',\n",
              "       'nivel profissional', 'nivel_academico', 'nivel_ingles',\n",
              "       'nivel_espanhol', 'outro_idioma', 'areas_atuacao',\n",
              "       'principais_atividades', 'competencia_tecnicas_e_comportamentais',\n",
              "       'demais_observacoes', 'viagens_requeridas', 'equipamentos_necessarios',\n",
              "       'habilidades_comportamentais_necessarias', 'valor_venda',\n",
              "       'valor_compra_1', 'valor_compra_2'],\n",
              "      dtype='object')"
            ]
          },
          "metadata": {},
          "execution_count": 66
        }
      ],
      "source": [
        "#Retorna o Index contendo os nomes de todas as colunas de df_vagas\n",
        "df_vagas.columns"
      ]
    },
    {
      "cell_type": "code",
      "execution_count": 67,
      "metadata": {
        "id": "tObIVC33M-fi"
      },
      "outputs": [],
      "source": [
        "# Cria uma lista com os nomes das colunas que irá continuar no DataFrame de candidatos, cada item é o nome de uma coluna presente em df_applicants.\n",
        "col_applicants = [\n",
        "    \"codigo_profissional\",\"objetivo_profissional\",\n",
        "    \"pcd\", \"area_atuacao\",\n",
        "    \"conhecimentos_tecnicos\",\"certificacoes\",\"outras_certificacoes\",\n",
        "    \"nivel_profissional\", \"nivel_academico\", \"nivel_ingles\",\n",
        "    \"nivel_espanhol\",\"outro_idioma\",\"cursos\",\"cargo_atual\",\"local\"\n",
        "]\n",
        "\n",
        "# Reatribui o DataFrame 'df_applicants' para conter somente as colunas listadas\n",
        "df_applicants = df_applicants[col_applicants]"
      ]
    },
    {
      "cell_type": "code",
      "execution_count": 68,
      "metadata": {
        "colab": {
          "base_uri": "https://localhost:8080/"
        },
        "id": "LbK7z3GDNCLT",
        "outputId": "f9fb83ab-3a34-493f-faed-ae21ba7bf9cd"
      },
      "outputs": [
        {
          "output_type": "execute_result",
          "data": {
            "text/plain": [
              "(42482, 15)"
            ]
          },
          "metadata": {},
          "execution_count": 68
        }
      ],
      "source": [
        "#Confirmando o tamanho do dataframe\n",
        "df_applicants.shape"
      ]
    },
    {
      "cell_type": "code",
      "execution_count": 69,
      "metadata": {
        "colab": {
          "base_uri": "https://localhost:8080/",
          "height": 554
        },
        "id": "6qvRLlo5NEZO",
        "outputId": "09055820-508a-4e87-8648-9554b9080400"
      },
      "outputs": [
        {
          "output_type": "execute_result",
          "data": {
            "text/plain": [
              "codigo_profissional           0\n",
              "objetivo_profissional         0\n",
              "pcd                           0\n",
              "area_atuacao                  0\n",
              "conhecimentos_tecnicos        0\n",
              "certificacoes                 0\n",
              "outras_certificacoes          0\n",
              "nivel_profissional            0\n",
              "nivel_academico               0\n",
              "nivel_ingles                  0\n",
              "nivel_espanhol                0\n",
              "outro_idioma                  0\n",
              "cursos                    35273\n",
              "cargo_atual               41538\n",
              "local                         0\n",
              "dtype: int64"
            ],
            "text/html": [
              "<div>\n",
              "<style scoped>\n",
              "    .dataframe tbody tr th:only-of-type {\n",
              "        vertical-align: middle;\n",
              "    }\n",
              "\n",
              "    .dataframe tbody tr th {\n",
              "        vertical-align: top;\n",
              "    }\n",
              "\n",
              "    .dataframe thead th {\n",
              "        text-align: right;\n",
              "    }\n",
              "</style>\n",
              "<table border=\"1\" class=\"dataframe\">\n",
              "  <thead>\n",
              "    <tr style=\"text-align: right;\">\n",
              "      <th></th>\n",
              "      <th>0</th>\n",
              "    </tr>\n",
              "  </thead>\n",
              "  <tbody>\n",
              "    <tr>\n",
              "      <th>codigo_profissional</th>\n",
              "      <td>0</td>\n",
              "    </tr>\n",
              "    <tr>\n",
              "      <th>objetivo_profissional</th>\n",
              "      <td>0</td>\n",
              "    </tr>\n",
              "    <tr>\n",
              "      <th>pcd</th>\n",
              "      <td>0</td>\n",
              "    </tr>\n",
              "    <tr>\n",
              "      <th>area_atuacao</th>\n",
              "      <td>0</td>\n",
              "    </tr>\n",
              "    <tr>\n",
              "      <th>conhecimentos_tecnicos</th>\n",
              "      <td>0</td>\n",
              "    </tr>\n",
              "    <tr>\n",
              "      <th>certificacoes</th>\n",
              "      <td>0</td>\n",
              "    </tr>\n",
              "    <tr>\n",
              "      <th>outras_certificacoes</th>\n",
              "      <td>0</td>\n",
              "    </tr>\n",
              "    <tr>\n",
              "      <th>nivel_profissional</th>\n",
              "      <td>0</td>\n",
              "    </tr>\n",
              "    <tr>\n",
              "      <th>nivel_academico</th>\n",
              "      <td>0</td>\n",
              "    </tr>\n",
              "    <tr>\n",
              "      <th>nivel_ingles</th>\n",
              "      <td>0</td>\n",
              "    </tr>\n",
              "    <tr>\n",
              "      <th>nivel_espanhol</th>\n",
              "      <td>0</td>\n",
              "    </tr>\n",
              "    <tr>\n",
              "      <th>outro_idioma</th>\n",
              "      <td>0</td>\n",
              "    </tr>\n",
              "    <tr>\n",
              "      <th>cursos</th>\n",
              "      <td>35273</td>\n",
              "    </tr>\n",
              "    <tr>\n",
              "      <th>cargo_atual</th>\n",
              "      <td>41538</td>\n",
              "    </tr>\n",
              "    <tr>\n",
              "      <th>local</th>\n",
              "      <td>0</td>\n",
              "    </tr>\n",
              "  </tbody>\n",
              "</table>\n",
              "</div><br><label><b>dtype:</b> int64</label>"
            ]
          },
          "metadata": {},
          "execution_count": 69
        }
      ],
      "source": [
        "#Somando quantos dados nulos possui no dataframe\n",
        "df_applicants.isnull().sum()"
      ]
    },
    {
      "cell_type": "code",
      "execution_count": 70,
      "metadata": {
        "colab": {
          "base_uri": "https://localhost:8080/",
          "height": 554
        },
        "id": "ikCLqT_oNGI5",
        "outputId": "7be1d7e0-390d-4fcf-c927-9277e0eaedf8"
      },
      "outputs": [
        {
          "output_type": "execute_result",
          "data": {
            "text/plain": [
              "codigo_profissional           0\n",
              "objetivo_profissional     14416\n",
              "pcd                       36161\n",
              "area_atuacao              35731\n",
              "conhecimentos_tecnicos    39129\n",
              "certificacoes             41954\n",
              "outras_certificacoes      41583\n",
              "nivel_profissional        42402\n",
              "nivel_academico           34388\n",
              "nivel_ingles              35638\n",
              "nivel_espanhol            35795\n",
              "outro_idioma                  0\n",
              "cursos                     1070\n",
              "cargo_atual                 546\n",
              "local                     25474\n",
              "dtype: int64"
            ],
            "text/html": [
              "<div>\n",
              "<style scoped>\n",
              "    .dataframe tbody tr th:only-of-type {\n",
              "        vertical-align: middle;\n",
              "    }\n",
              "\n",
              "    .dataframe tbody tr th {\n",
              "        vertical-align: top;\n",
              "    }\n",
              "\n",
              "    .dataframe thead th {\n",
              "        text-align: right;\n",
              "    }\n",
              "</style>\n",
              "<table border=\"1\" class=\"dataframe\">\n",
              "  <thead>\n",
              "    <tr style=\"text-align: right;\">\n",
              "      <th></th>\n",
              "      <th>0</th>\n",
              "    </tr>\n",
              "  </thead>\n",
              "  <tbody>\n",
              "    <tr>\n",
              "      <th>codigo_profissional</th>\n",
              "      <td>0</td>\n",
              "    </tr>\n",
              "    <tr>\n",
              "      <th>objetivo_profissional</th>\n",
              "      <td>14416</td>\n",
              "    </tr>\n",
              "    <tr>\n",
              "      <th>pcd</th>\n",
              "      <td>36161</td>\n",
              "    </tr>\n",
              "    <tr>\n",
              "      <th>area_atuacao</th>\n",
              "      <td>35731</td>\n",
              "    </tr>\n",
              "    <tr>\n",
              "      <th>conhecimentos_tecnicos</th>\n",
              "      <td>39129</td>\n",
              "    </tr>\n",
              "    <tr>\n",
              "      <th>certificacoes</th>\n",
              "      <td>41954</td>\n",
              "    </tr>\n",
              "    <tr>\n",
              "      <th>outras_certificacoes</th>\n",
              "      <td>41583</td>\n",
              "    </tr>\n",
              "    <tr>\n",
              "      <th>nivel_profissional</th>\n",
              "      <td>42402</td>\n",
              "    </tr>\n",
              "    <tr>\n",
              "      <th>nivel_academico</th>\n",
              "      <td>34388</td>\n",
              "    </tr>\n",
              "    <tr>\n",
              "      <th>nivel_ingles</th>\n",
              "      <td>35638</td>\n",
              "    </tr>\n",
              "    <tr>\n",
              "      <th>nivel_espanhol</th>\n",
              "      <td>35795</td>\n",
              "    </tr>\n",
              "    <tr>\n",
              "      <th>outro_idioma</th>\n",
              "      <td>0</td>\n",
              "    </tr>\n",
              "    <tr>\n",
              "      <th>cursos</th>\n",
              "      <td>1070</td>\n",
              "    </tr>\n",
              "    <tr>\n",
              "      <th>cargo_atual</th>\n",
              "      <td>546</td>\n",
              "    </tr>\n",
              "    <tr>\n",
              "      <th>local</th>\n",
              "      <td>25474</td>\n",
              "    </tr>\n",
              "  </tbody>\n",
              "</table>\n",
              "</div><br><label><b>dtype:</b> int64</label>"
            ]
          },
          "metadata": {},
          "execution_count": 70
        }
      ],
      "source": [
        "#Verificando em cada coluna do df quantos células tem uma string vazia\n",
        "(df_applicants == \"\").sum()"
      ]
    },
    {
      "cell_type": "code",
      "execution_count": 71,
      "metadata": {
        "colab": {
          "base_uri": "https://localhost:8080/"
        },
        "id": "ulQfES_ANIC2",
        "outputId": "e8a92101-ddf8-4a1c-df03-41dd5a4efae0"
      },
      "outputs": [
        {
          "output_type": "stream",
          "name": "stdout",
          "text": [
            "codigo_profissional       0.00\n",
            "objetivo_profissional     0.34\n",
            "pcd                       0.85\n",
            "area_atuacao              0.84\n",
            "conhecimentos_tecnicos    0.92\n",
            "certificacoes             0.99\n",
            "outras_certificacoes      0.98\n",
            "nivel_profissional        1.00\n",
            "nivel_academico           0.81\n",
            "nivel_ingles              0.84\n",
            "nivel_espanhol            0.84\n",
            "outro_idioma              0.00\n",
            "cursos                    0.03\n",
            "cargo_atual               0.01\n",
            "local                     0.60\n",
            "dtype: float64\n"
          ]
        }
      ],
      "source": [
        "#Criando uma série com a porcentagem de células vazias (\"\") em cada coluna do DataFrame df_applicants.\n",
        "porcentagem_vazios = (df_applicants == \"\").sum() / df_applicants.shape[0]\n",
        "print(porcentagem_vazios.round(2))"
      ]
    },
    {
      "cell_type": "markdown",
      "metadata": {
        "id": "phD9incL4BrW"
      },
      "source": [
        "# Engenharia de Features"
      ]
    },
    {
      "cell_type": "code",
      "execution_count": 72,
      "metadata": {
        "id": "Zn6MggAXNRsH"
      },
      "outputs": [],
      "source": [
        "#Definindo uma função que filtra os valores indesejados de uma coluna específica de um DataFrame\n",
        "def filtrar_caracteres(df, col):\n",
        "    def limpar_objetivo(obj):\n",
        "        #Definindo uma função que filtra/limpa valores indesejados de uma coluna específica\n",
        "        obj = str(obj).strip()\n",
        "\n",
        "        if pd.isna(obj) or obj in [\"\", \".\", \"-\", \" \"]:\n",
        "            return \"\"\n",
        "\n",
        "        if re.match(r\"^[\\w\\.-]+@[\\w\\.-]+\\.[a-zA-Z]{2,}$\", obj):\n",
        "            return \"\"\n",
        "\n",
        "        if pd.to_datetime(obj, errors='coerce') is not pd.NaT:\n",
        "            return \"\"\n",
        "\n",
        "        if not re.search(r\"[a-zA-Z]\", obj):\n",
        "            return \"\"\n",
        "\n",
        "        obj = obj.replace('nan', '')\n",
        "\n",
        "        #Removendo ocorrências da string nulas dentro do valor\n",
        "        return obj\n",
        "\n",
        "    #Aplicando a função de limpeza em todos os valores da coluna\n",
        "    df[col] = df[col].apply(limpar_objetivo)\n",
        "\n",
        "    return df"
      ]
    },
    {
      "cell_type": "code",
      "execution_count": 73,
      "metadata": {
        "id": "xtJfslnON6_h"
      },
      "outputs": [],
      "source": [
        "#Lista de colunas do DataFrame df_applicants que serão limpas\n",
        "col_limpar = [\n",
        "    \"objetivo_profissional\", \"pcd\", \"area_atuacao\", \"conhecimentos_tecnicos\",\n",
        "    \"certificacoes\", \"outras_certificacoes\", \"nivel_profissional\", \"nivel_academico\",\n",
        "    \"nivel_ingles\", \"nivel_espanhol\", \"outro_idioma\", \"cursos\", \"cargo_atual\", \"local\"\n",
        "]\n",
        "\n",
        "#Para cada coluna da lista col_limpar, aplica a função filtrar_caracteres que limpa valores indesejados\n",
        "for col in col_limpar:\n",
        "    df_applicants = filtrar_caracteres(df_applicants, col)\n"
      ]
    },
    {
      "cell_type": "code",
      "execution_count": 74,
      "metadata": {
        "id": "BSR-kT5fOCPG"
      },
      "outputs": [],
      "source": [
        "#Filtrando o df df_applicants, mantendo apenas as linhas em que a coluna 'objetivo_profissional' **não está vazia**\n",
        "df_applicants = df_applicants[df_applicants['objetivo_profissional'] != '']"
      ]
    },
    {
      "cell_type": "code",
      "execution_count": 75,
      "metadata": {
        "id": "-MExpuVsOFD4",
        "colab": {
          "base_uri": "https://localhost:8080/"
        },
        "outputId": "c1a671e6-1442-41a9-921b-444c47a00dcb"
      },
      "outputs": [
        {
          "output_type": "execute_result",
          "data": {
            "text/plain": [
              "(27994, 15)"
            ]
          },
          "metadata": {},
          "execution_count": 75
        }
      ],
      "source": [
        "#Confirmando o tamanho do df_applicants\n",
        "df_applicants.shape"
      ]
    },
    {
      "cell_type": "code",
      "execution_count": 76,
      "metadata": {
        "id": "mjycbJOZPQYw",
        "colab": {
          "base_uri": "https://localhost:8080/",
          "height": 554
        },
        "outputId": "12c292a7-d588-483c-8178-1c5585493af8"
      },
      "outputs": [
        {
          "output_type": "execute_result",
          "data": {
            "text/plain": [
              "codigo_profissional           0\n",
              "objetivo_profissional         0\n",
              "pcd                       22150\n",
              "area_atuacao              21761\n",
              "conhecimentos_tecnicos    24777\n",
              "certificacoes             27508\n",
              "outras_certificacoes      27149\n",
              "nivel_profissional        27931\n",
              "nivel_academico           20455\n",
              "nivel_ingles              21734\n",
              "nivel_espanhol            21837\n",
              "outro_idioma              26680\n",
              "cursos                    22255\n",
              "cargo_atual               27638\n",
              "local                     11665\n",
              "dtype: int64"
            ],
            "text/html": [
              "<div>\n",
              "<style scoped>\n",
              "    .dataframe tbody tr th:only-of-type {\n",
              "        vertical-align: middle;\n",
              "    }\n",
              "\n",
              "    .dataframe tbody tr th {\n",
              "        vertical-align: top;\n",
              "    }\n",
              "\n",
              "    .dataframe thead th {\n",
              "        text-align: right;\n",
              "    }\n",
              "</style>\n",
              "<table border=\"1\" class=\"dataframe\">\n",
              "  <thead>\n",
              "    <tr style=\"text-align: right;\">\n",
              "      <th></th>\n",
              "      <th>0</th>\n",
              "    </tr>\n",
              "  </thead>\n",
              "  <tbody>\n",
              "    <tr>\n",
              "      <th>codigo_profissional</th>\n",
              "      <td>0</td>\n",
              "    </tr>\n",
              "    <tr>\n",
              "      <th>objetivo_profissional</th>\n",
              "      <td>0</td>\n",
              "    </tr>\n",
              "    <tr>\n",
              "      <th>pcd</th>\n",
              "      <td>22150</td>\n",
              "    </tr>\n",
              "    <tr>\n",
              "      <th>area_atuacao</th>\n",
              "      <td>21761</td>\n",
              "    </tr>\n",
              "    <tr>\n",
              "      <th>conhecimentos_tecnicos</th>\n",
              "      <td>24777</td>\n",
              "    </tr>\n",
              "    <tr>\n",
              "      <th>certificacoes</th>\n",
              "      <td>27508</td>\n",
              "    </tr>\n",
              "    <tr>\n",
              "      <th>outras_certificacoes</th>\n",
              "      <td>27149</td>\n",
              "    </tr>\n",
              "    <tr>\n",
              "      <th>nivel_profissional</th>\n",
              "      <td>27931</td>\n",
              "    </tr>\n",
              "    <tr>\n",
              "      <th>nivel_academico</th>\n",
              "      <td>20455</td>\n",
              "    </tr>\n",
              "    <tr>\n",
              "      <th>nivel_ingles</th>\n",
              "      <td>21734</td>\n",
              "    </tr>\n",
              "    <tr>\n",
              "      <th>nivel_espanhol</th>\n",
              "      <td>21837</td>\n",
              "    </tr>\n",
              "    <tr>\n",
              "      <th>outro_idioma</th>\n",
              "      <td>26680</td>\n",
              "    </tr>\n",
              "    <tr>\n",
              "      <th>cursos</th>\n",
              "      <td>22255</td>\n",
              "    </tr>\n",
              "    <tr>\n",
              "      <th>cargo_atual</th>\n",
              "      <td>27638</td>\n",
              "    </tr>\n",
              "    <tr>\n",
              "      <th>local</th>\n",
              "      <td>11665</td>\n",
              "    </tr>\n",
              "  </tbody>\n",
              "</table>\n",
              "</div><br><label><b>dtype:</b> int64</label>"
            ]
          },
          "metadata": {},
          "execution_count": 76
        }
      ],
      "source": [
        "##Verificando em cada coluna do df quantos células tem uma string vazia\n",
        "(df_applicants == \"\").sum()"
      ]
    },
    {
      "cell_type": "code",
      "execution_count": 77,
      "metadata": {
        "id": "PK90CUSMPQvB"
      },
      "outputs": [],
      "source": [
        "#Função que concatenadas  grupos de colunas de um df, para cada grupo de colunas, ela gera uma coluna única que combina os valores não vazios, prefixando o nome da coluna.\n",
        "def criar_grupos_concac(df, id_coluna, grupos_colunas):\n",
        "    #Dicionário para armazenar os DataFrames resultantes de cada grupo\n",
        "    dfs_resultado = {}\n",
        "\n",
        "    for nome_grupo, colunas in grupos_colunas.items():\n",
        "        df_temp = df[[id_coluna] + colunas].copy()\n",
        "\n",
        "        #Função interna que concatena os valores de uma linha em uma string única\n",
        "        def concatenar_linha(row):\n",
        "            textos_validos = [\n",
        "                f\"{coluna}: {str(row[coluna]).strip()}\"\n",
        "                for coluna in colunas\n",
        "                if str(row[coluna]).strip() != \"\"\n",
        "            ]\n",
        "            return ' | '.join(textos_validos)\n",
        "\n",
        "        #Aplicando a função linha a linha, criando a coluna concatenada para o grupo\n",
        "        df_temp[f\"perfil_concatenado_{nome_grupo}\"] = df_temp.apply(concatenar_linha, axis=1)\n",
        "\n",
        "        #Removendo linhas que ficaram vazias após concatenar\n",
        "        df_temp = df_temp[df_temp[f\"perfil_concatenado_{nome_grupo}\"] != \"\"]\n",
        "\n",
        "        #Adicionando ao dicionário de resultados apenas a coluna de ID e a coluna concatenada\n",
        "        dfs_resultado[nome_grupo] = df_temp[[id_coluna, f\"perfil_concatenado_{nome_grupo}\"]]\n",
        "\n",
        "    return dfs_resultado\n"
      ]
    },
    {
      "cell_type": "code",
      "execution_count": 78,
      "metadata": {
        "id": "zQxCwRaGQHWl"
      },
      "outputs": [],
      "source": [
        "#Criando lista de colunas relacionadas a habilidades técnicas e experiência profissional\n",
        "hard_skills = [\n",
        "    \"objetivo_profissional\",\n",
        "    \"area_atuacao\",\n",
        "    \"conhecimentos_tecnicos\",\n",
        "    \"nivel_profissional\",\n",
        "    \"cargo_atual\",\n",
        "    \"cursos\"\n",
        "]\n",
        "\n",
        "#Criando lista de colunas relacionadas à formação acadêmica e proficiência em idiomas\n",
        "education = [\n",
        "    \"certificacoes\",\n",
        "    \"outras_certificacoes\",\n",
        "    \"nivel_academico\",\n",
        "    \"nivel_ingles\",\n",
        "    \"nivel_espanhol\",\n",
        "    \"outro_idioma\"\n",
        "]\n",
        "\n",
        "#Criando lista de colunas relacionadas a informações pessoais\n",
        "personal = [\n",
        "    \"pcd\",\n",
        "    \"local\"\n",
        "]\n",
        "\n",
        "#Dicionário que agrupa as listas\n",
        "grupos_col = {\n",
        "    \"hard_skills\": hard_skills,\n",
        "    \"education\": education,\n",
        "    \"personal\": personal\n",
        "}"
      ]
    },
    {
      "cell_type": "code",
      "execution_count": 79,
      "metadata": {
        "id": "ZOpYtFwrRtYu"
      },
      "outputs": [],
      "source": [
        "#Chamando a função 'criar_grupos_concac' para gerar colunas concatenadas para cada grupo de colunas definido em 'grupos_col'\n",
        "dfs_por_grupo = criar_grupos_concac(df_applicants, \"codigo_profissional\", grupos_col)"
      ]
    },
    {
      "cell_type": "code",
      "execution_count": 80,
      "metadata": {
        "id": "Hz9KeUeFRboA"
      },
      "outputs": [],
      "source": [
        "#Extraindo os dfs individuais do dicionário de grupos concatenados cada df\n",
        "df_hard_skills = dfs_por_grupo[\"hard_skills\"]\n",
        "df_education = dfs_por_grupo[\"education\"]\n",
        "df_personal = dfs_por_grupo[\"personal\"]\n",
        "\n",
        "#Faz o merge dos dfs para criar um DataFrame único\n",
        "df_unico = df_hard_skills.merge(df_education, on=\"codigo_profissional\", how=\"outer\")\n",
        "df_unico = df_unico.merge(df_personal, on=\"codigo_profissional\", how=\"outer\")"
      ]
    },
    {
      "cell_type": "code",
      "execution_count": 81,
      "metadata": {
        "id": "G-0BxjZ-PQy-",
        "colab": {
          "base_uri": "https://localhost:8080/",
          "height": 210
        },
        "outputId": "03a0fad2-df42-4b24-ec1e-ec0449a727d5"
      },
      "outputs": [
        {
          "output_type": "execute_result",
          "data": {
            "text/plain": [
              "codigo_profissional               0\n",
              "perfil_concatenado_hard_skills    0\n",
              "perfil_concatenado_education      0\n",
              "perfil_concatenado_personal       0\n",
              "dtype: int64"
            ],
            "text/html": [
              "<div>\n",
              "<style scoped>\n",
              "    .dataframe tbody tr th:only-of-type {\n",
              "        vertical-align: middle;\n",
              "    }\n",
              "\n",
              "    .dataframe tbody tr th {\n",
              "        vertical-align: top;\n",
              "    }\n",
              "\n",
              "    .dataframe thead th {\n",
              "        text-align: right;\n",
              "    }\n",
              "</style>\n",
              "<table border=\"1\" class=\"dataframe\">\n",
              "  <thead>\n",
              "    <tr style=\"text-align: right;\">\n",
              "      <th></th>\n",
              "      <th>0</th>\n",
              "    </tr>\n",
              "  </thead>\n",
              "  <tbody>\n",
              "    <tr>\n",
              "      <th>codigo_profissional</th>\n",
              "      <td>0</td>\n",
              "    </tr>\n",
              "    <tr>\n",
              "      <th>perfil_concatenado_hard_skills</th>\n",
              "      <td>0</td>\n",
              "    </tr>\n",
              "    <tr>\n",
              "      <th>perfil_concatenado_education</th>\n",
              "      <td>0</td>\n",
              "    </tr>\n",
              "    <tr>\n",
              "      <th>perfil_concatenado_personal</th>\n",
              "      <td>0</td>\n",
              "    </tr>\n",
              "  </tbody>\n",
              "</table>\n",
              "</div><br><label><b>dtype:</b> int64</label>"
            ]
          },
          "metadata": {},
          "execution_count": 81
        }
      ],
      "source": [
        "#Conta para cada coluna do df df_unico quantas células contêm uma string vazia\n",
        "(df_unico == \"\").sum()"
      ]
    },
    {
      "cell_type": "code",
      "execution_count": 82,
      "metadata": {
        "id": "n31wnMkyPQ3q",
        "colab": {
          "base_uri": "https://localhost:8080/",
          "height": 210
        },
        "outputId": "59808602-c7d7-4351-c7ee-5717f5a6e788"
      },
      "outputs": [
        {
          "output_type": "execute_result",
          "data": {
            "text/plain": [
              "codigo_profissional               object\n",
              "perfil_concatenado_hard_skills    object\n",
              "perfil_concatenado_education      object\n",
              "perfil_concatenado_personal       object\n",
              "dtype: object"
            ],
            "text/html": [
              "<div>\n",
              "<style scoped>\n",
              "    .dataframe tbody tr th:only-of-type {\n",
              "        vertical-align: middle;\n",
              "    }\n",
              "\n",
              "    .dataframe tbody tr th {\n",
              "        vertical-align: top;\n",
              "    }\n",
              "\n",
              "    .dataframe thead th {\n",
              "        text-align: right;\n",
              "    }\n",
              "</style>\n",
              "<table border=\"1\" class=\"dataframe\">\n",
              "  <thead>\n",
              "    <tr style=\"text-align: right;\">\n",
              "      <th></th>\n",
              "      <th>0</th>\n",
              "    </tr>\n",
              "  </thead>\n",
              "  <tbody>\n",
              "    <tr>\n",
              "      <th>codigo_profissional</th>\n",
              "      <td>object</td>\n",
              "    </tr>\n",
              "    <tr>\n",
              "      <th>perfil_concatenado_hard_skills</th>\n",
              "      <td>object</td>\n",
              "    </tr>\n",
              "    <tr>\n",
              "      <th>perfil_concatenado_education</th>\n",
              "      <td>object</td>\n",
              "    </tr>\n",
              "    <tr>\n",
              "      <th>perfil_concatenado_personal</th>\n",
              "      <td>object</td>\n",
              "    </tr>\n",
              "  </tbody>\n",
              "</table>\n",
              "</div><br><label><b>dtype:</b> object</label>"
            ]
          },
          "metadata": {},
          "execution_count": 82
        }
      ],
      "source": [
        "#Verificando o tipo de dados do df\n",
        "df_unico.dtypes"
      ]
    },
    {
      "cell_type": "code",
      "execution_count": 83,
      "metadata": {
        "id": "UHLYcZwYPQ6C"
      },
      "outputs": [],
      "source": [
        "#Convertendo os valores da coluna 'codigo_profissional' para o tipo inteiro\n",
        "df_unico['codigo_profissional'] = df_unico['codigo_profissional'].astype(int)"
      ]
    },
    {
      "cell_type": "code",
      "execution_count": 84,
      "metadata": {
        "id": "PkOhqsRgQrwy",
        "colab": {
          "base_uri": "https://localhost:8080/"
        },
        "outputId": "97dc5119-86fd-439f-89ea-a56d6ffa1897"
      },
      "outputs": [
        {
          "output_type": "execute_result",
          "data": {
            "text/plain": [
              "Index(['codigo_vaga', 'titulo', 'modalidade', 'nome', 'codigo',\n",
              "       'situacao_candidado', 'data_candidatura', 'ultima_atualizacao',\n",
              "       'comentario', 'recrutador'],\n",
              "      dtype='object')"
            ]
          },
          "metadata": {},
          "execution_count": 84
        }
      ],
      "source": [
        "#Retornando os nomes de todas as colunas do df_prospects\n",
        "df_prospects.columns"
      ]
    },
    {
      "cell_type": "code",
      "execution_count": 85,
      "metadata": {
        "id": "Ju_eGHthQsn-",
        "colab": {
          "base_uri": "https://localhost:8080/"
        },
        "outputId": "cb7ab6e1-03b4-41ac-9d9c-5d83befcbabb"
      },
      "outputs": [
        {
          "output_type": "execute_result",
          "data": {
            "text/plain": [
              "(56702, 10)"
            ]
          },
          "metadata": {},
          "execution_count": 85
        }
      ],
      "source": [
        "#Verifica o tamanho do df\n",
        "df_prospects.shape"
      ]
    },
    {
      "cell_type": "code",
      "execution_count": 86,
      "metadata": {
        "id": "0v2xiEN4QsqX",
        "colab": {
          "base_uri": "https://localhost:8080/",
          "height": 398
        },
        "outputId": "b748766a-a3f8-4d47-f5cc-edbb99c39d0e"
      },
      "outputs": [
        {
          "output_type": "execute_result",
          "data": {
            "text/plain": [
              "codigo_vaga              0\n",
              "titulo                   0\n",
              "modalidade               0\n",
              "nome                  2943\n",
              "codigo                2943\n",
              "situacao_candidado    2943\n",
              "data_candidatura      2943\n",
              "ultima_atualizacao    2943\n",
              "comentario            2943\n",
              "recrutador            2943\n",
              "dtype: int64"
            ],
            "text/html": [
              "<div>\n",
              "<style scoped>\n",
              "    .dataframe tbody tr th:only-of-type {\n",
              "        vertical-align: middle;\n",
              "    }\n",
              "\n",
              "    .dataframe tbody tr th {\n",
              "        vertical-align: top;\n",
              "    }\n",
              "\n",
              "    .dataframe thead th {\n",
              "        text-align: right;\n",
              "    }\n",
              "</style>\n",
              "<table border=\"1\" class=\"dataframe\">\n",
              "  <thead>\n",
              "    <tr style=\"text-align: right;\">\n",
              "      <th></th>\n",
              "      <th>0</th>\n",
              "    </tr>\n",
              "  </thead>\n",
              "  <tbody>\n",
              "    <tr>\n",
              "      <th>codigo_vaga</th>\n",
              "      <td>0</td>\n",
              "    </tr>\n",
              "    <tr>\n",
              "      <th>titulo</th>\n",
              "      <td>0</td>\n",
              "    </tr>\n",
              "    <tr>\n",
              "      <th>modalidade</th>\n",
              "      <td>0</td>\n",
              "    </tr>\n",
              "    <tr>\n",
              "      <th>nome</th>\n",
              "      <td>2943</td>\n",
              "    </tr>\n",
              "    <tr>\n",
              "      <th>codigo</th>\n",
              "      <td>2943</td>\n",
              "    </tr>\n",
              "    <tr>\n",
              "      <th>situacao_candidado</th>\n",
              "      <td>2943</td>\n",
              "    </tr>\n",
              "    <tr>\n",
              "      <th>data_candidatura</th>\n",
              "      <td>2943</td>\n",
              "    </tr>\n",
              "    <tr>\n",
              "      <th>ultima_atualizacao</th>\n",
              "      <td>2943</td>\n",
              "    </tr>\n",
              "    <tr>\n",
              "      <th>comentario</th>\n",
              "      <td>2943</td>\n",
              "    </tr>\n",
              "    <tr>\n",
              "      <th>recrutador</th>\n",
              "      <td>2943</td>\n",
              "    </tr>\n",
              "  </tbody>\n",
              "</table>\n",
              "</div><br><label><b>dtype:</b> int64</label>"
            ]
          },
          "metadata": {},
          "execution_count": 86
        }
      ],
      "source": [
        "#Soma os valores nulos do df\n",
        "df_prospects.isnull().sum()"
      ]
    },
    {
      "cell_type": "code",
      "execution_count": 87,
      "metadata": {
        "id": "MVcICP2LQss0",
        "colab": {
          "base_uri": "https://localhost:8080/",
          "height": 398
        },
        "outputId": "d42c2f44-5983-4b13-9dbf-2aa07c9750a8"
      },
      "outputs": [
        {
          "output_type": "execute_result",
          "data": {
            "text/plain": [
              "codigo_vaga               0\n",
              "titulo                 2943\n",
              "modalidade            55019\n",
              "nome                      0\n",
              "codigo                    0\n",
              "situacao_candidado        0\n",
              "data_candidatura          0\n",
              "ultima_atualizacao     3913\n",
              "comentario            39201\n",
              "recrutador                0\n",
              "dtype: int64"
            ],
            "text/html": [
              "<div>\n",
              "<style scoped>\n",
              "    .dataframe tbody tr th:only-of-type {\n",
              "        vertical-align: middle;\n",
              "    }\n",
              "\n",
              "    .dataframe tbody tr th {\n",
              "        vertical-align: top;\n",
              "    }\n",
              "\n",
              "    .dataframe thead th {\n",
              "        text-align: right;\n",
              "    }\n",
              "</style>\n",
              "<table border=\"1\" class=\"dataframe\">\n",
              "  <thead>\n",
              "    <tr style=\"text-align: right;\">\n",
              "      <th></th>\n",
              "      <th>0</th>\n",
              "    </tr>\n",
              "  </thead>\n",
              "  <tbody>\n",
              "    <tr>\n",
              "      <th>codigo_vaga</th>\n",
              "      <td>0</td>\n",
              "    </tr>\n",
              "    <tr>\n",
              "      <th>titulo</th>\n",
              "      <td>2943</td>\n",
              "    </tr>\n",
              "    <tr>\n",
              "      <th>modalidade</th>\n",
              "      <td>55019</td>\n",
              "    </tr>\n",
              "    <tr>\n",
              "      <th>nome</th>\n",
              "      <td>0</td>\n",
              "    </tr>\n",
              "    <tr>\n",
              "      <th>codigo</th>\n",
              "      <td>0</td>\n",
              "    </tr>\n",
              "    <tr>\n",
              "      <th>situacao_candidado</th>\n",
              "      <td>0</td>\n",
              "    </tr>\n",
              "    <tr>\n",
              "      <th>data_candidatura</th>\n",
              "      <td>0</td>\n",
              "    </tr>\n",
              "    <tr>\n",
              "      <th>ultima_atualizacao</th>\n",
              "      <td>3913</td>\n",
              "    </tr>\n",
              "    <tr>\n",
              "      <th>comentario</th>\n",
              "      <td>39201</td>\n",
              "    </tr>\n",
              "    <tr>\n",
              "      <th>recrutador</th>\n",
              "      <td>0</td>\n",
              "    </tr>\n",
              "  </tbody>\n",
              "</table>\n",
              "</div><br><label><b>dtype:</b> int64</label>"
            ]
          },
          "metadata": {},
          "execution_count": 87
        }
      ],
      "source": [
        "#Conta para cada coluna do df_prospects quantas células contem uma string vazia\n",
        "(df_prospects == \"\").sum()"
      ]
    },
    {
      "cell_type": "code",
      "execution_count": 88,
      "metadata": {
        "id": "HrFPgv-fQsvR"
      },
      "outputs": [],
      "source": [
        "#Selecionando apenas um subconjunto específico de colunas do df_prospects\n",
        "df_prospects = df_prospects[[\"codigo\",\"codigo_vaga\",\"titulo\",\"situacao_candidado\"]]"
      ]
    },
    {
      "cell_type": "code",
      "execution_count": 89,
      "metadata": {
        "colab": {
          "base_uri": "https://localhost:8080/",
          "height": 210
        },
        "id": "rIgSnophQsx6",
        "outputId": "be8982d1-2493-487e-83e2-cdff56c63595"
      },
      "outputs": [
        {
          "output_type": "execute_result",
          "data": {
            "text/plain": [
              "codigo                2943\n",
              "codigo_vaga              0\n",
              "titulo                   0\n",
              "situacao_candidado    2943\n",
              "dtype: int64"
            ],
            "text/html": [
              "<div>\n",
              "<style scoped>\n",
              "    .dataframe tbody tr th:only-of-type {\n",
              "        vertical-align: middle;\n",
              "    }\n",
              "\n",
              "    .dataframe tbody tr th {\n",
              "        vertical-align: top;\n",
              "    }\n",
              "\n",
              "    .dataframe thead th {\n",
              "        text-align: right;\n",
              "    }\n",
              "</style>\n",
              "<table border=\"1\" class=\"dataframe\">\n",
              "  <thead>\n",
              "    <tr style=\"text-align: right;\">\n",
              "      <th></th>\n",
              "      <th>0</th>\n",
              "    </tr>\n",
              "  </thead>\n",
              "  <tbody>\n",
              "    <tr>\n",
              "      <th>codigo</th>\n",
              "      <td>2943</td>\n",
              "    </tr>\n",
              "    <tr>\n",
              "      <th>codigo_vaga</th>\n",
              "      <td>0</td>\n",
              "    </tr>\n",
              "    <tr>\n",
              "      <th>titulo</th>\n",
              "      <td>0</td>\n",
              "    </tr>\n",
              "    <tr>\n",
              "      <th>situacao_candidado</th>\n",
              "      <td>2943</td>\n",
              "    </tr>\n",
              "  </tbody>\n",
              "</table>\n",
              "</div><br><label><b>dtype:</b> int64</label>"
            ]
          },
          "metadata": {},
          "execution_count": 89
        }
      ],
      "source": [
        "#Contando para cada coluna do df_prospects, quantos valores ausentes existem\n",
        "df_prospects.isnull().sum()"
      ]
    },
    {
      "cell_type": "code",
      "execution_count": 90,
      "metadata": {
        "id": "bUs9Uf7gRIuq"
      },
      "outputs": [],
      "source": [
        "#Removendo todas as linhas do  df_prospects que contêm algum valor ausente\n",
        "df_prospects.dropna(inplace=True)"
      ]
    },
    {
      "cell_type": "code",
      "execution_count": 91,
      "metadata": {
        "colab": {
          "base_uri": "https://localhost:8080/"
        },
        "id": "Kmi7hRWLRLSR",
        "outputId": "b45e6335-5470-4184-d787-6310fff33b0a"
      },
      "outputs": [
        {
          "output_type": "execute_result",
          "data": {
            "text/plain": [
              "(53759, 4)"
            ]
          },
          "metadata": {},
          "execution_count": 91
        }
      ],
      "source": [
        "#Verifica o tamanho do df\n",
        "df_prospects.shape"
      ]
    },
    {
      "cell_type": "code",
      "execution_count": 92,
      "metadata": {
        "colab": {
          "base_uri": "https://localhost:8080/",
          "height": 210
        },
        "id": "4lEX3e9pRLao",
        "outputId": "84ba7360-ff04-48e5-b2bd-8b1812434820"
      },
      "outputs": [
        {
          "output_type": "execute_result",
          "data": {
            "text/plain": [
              "codigo                0\n",
              "codigo_vaga           0\n",
              "titulo                0\n",
              "situacao_candidado    0\n",
              "dtype: int64"
            ],
            "text/html": [
              "<div>\n",
              "<style scoped>\n",
              "    .dataframe tbody tr th:only-of-type {\n",
              "        vertical-align: middle;\n",
              "    }\n",
              "\n",
              "    .dataframe tbody tr th {\n",
              "        vertical-align: top;\n",
              "    }\n",
              "\n",
              "    .dataframe thead th {\n",
              "        text-align: right;\n",
              "    }\n",
              "</style>\n",
              "<table border=\"1\" class=\"dataframe\">\n",
              "  <thead>\n",
              "    <tr style=\"text-align: right;\">\n",
              "      <th></th>\n",
              "      <th>0</th>\n",
              "    </tr>\n",
              "  </thead>\n",
              "  <tbody>\n",
              "    <tr>\n",
              "      <th>codigo</th>\n",
              "      <td>0</td>\n",
              "    </tr>\n",
              "    <tr>\n",
              "      <th>codigo_vaga</th>\n",
              "      <td>0</td>\n",
              "    </tr>\n",
              "    <tr>\n",
              "      <th>titulo</th>\n",
              "      <td>0</td>\n",
              "    </tr>\n",
              "    <tr>\n",
              "      <th>situacao_candidado</th>\n",
              "      <td>0</td>\n",
              "    </tr>\n",
              "  </tbody>\n",
              "</table>\n",
              "</div><br><label><b>dtype:</b> int64</label>"
            ]
          },
          "metadata": {},
          "execution_count": 92
        }
      ],
      "source": [
        "#Conta para cada coluna do df_prospects quantas células contem uma string vazia\n",
        "(df_prospects == \"\").sum()"
      ]
    },
    {
      "cell_type": "code",
      "execution_count": 93,
      "metadata": {
        "colab": {
          "base_uri": "https://localhost:8080/"
        },
        "id": "AhM-Z89dRPOd",
        "outputId": "bfe64f2e-ed92-4b7b-ee07-ab8af677c8ab"
      },
      "outputs": [
        {
          "output_type": "execute_result",
          "data": {
            "text/plain": [
              "array(['Encaminhado ao Requisitante', 'Contratado pela Decision',\n",
              "       'Desistiu', 'Documentação PJ', 'Não Aprovado pelo Cliente',\n",
              "       'Prospect', 'Não Aprovado pelo RH', 'Aprovado',\n",
              "       'Não Aprovado pelo Requisitante', 'Inscrito', 'Entrevista Técnica',\n",
              "       'Em avaliação pelo RH', 'Contratado como Hunting',\n",
              "       'Desistiu da Contratação', 'Entrevista com Cliente',\n",
              "       'Documentação CLT', 'Recusado', 'Documentação Cooperado',\n",
              "       'Sem interesse nesta vaga', 'Encaminhar Proposta',\n",
              "       'Proposta Aceita'], dtype=object)"
            ]
          },
          "metadata": {},
          "execution_count": 93
        }
      ],
      "source": [
        "#Retornando os valores únicos presentes na coluna 'situacao_candidado' do df_prospects\n",
        "df_prospects['situacao_candidado'].unique()"
      ]
    },
    {
      "cell_type": "code",
      "execution_count": 94,
      "metadata": {
        "id": "dGEtbjxARPQ5"
      },
      "outputs": [],
      "source": [
        "#Definindo listas de status considerados aprovados e não aprovados\n",
        "status_aprov = [\n",
        "    'Aprovado',\n",
        "    'Contratado pela Decision',\n",
        "    'Contratado como Hunting',\n",
        "    'Proposta Aceita',\n",
        "    'Encaminhar Proposta'\n",
        "]\n",
        "\n",
        "status_neg = [\n",
        "    'Não Aprovado pelo Cliente',\n",
        "    'Não Aprovado pelo RH',\n",
        "    'Não Aprovado pelo Requisitante',\n",
        "    'Desistiu',\n",
        "    'Desistiu da Contratação',\n",
        "    'Recusado',\n",
        "    'Sem interesse nesta vaga'\n",
        "]\n",
        "\n",
        "#Removendo espaços em branco antes e depois dos valores na coluna 'situacao_candidado'\n",
        "df_prospects['situacao_candidado'] = df_prospects['situacao_candidado'].str.strip()\n",
        "\n",
        "#Convertendo os status da coluna para valores binários:\n",
        "df_prospects['situacao_candidado'] = df_prospects['situacao_candidado'].apply(\n",
        "    lambda x: 1 if x in status_aprov else 0\n",
        ")\n"
      ]
    },
    {
      "cell_type": "code",
      "execution_count": 95,
      "metadata": {
        "colab": {
          "base_uri": "https://localhost:8080/",
          "height": 178
        },
        "id": "v8P42pgoRW9O",
        "outputId": "05bedcc0-20c6-4a0e-d888-3777a315c204"
      },
      "outputs": [
        {
          "output_type": "execute_result",
          "data": {
            "text/plain": [
              "situacao_candidado\n",
              "0    50563\n",
              "1     3196\n",
              "Name: count, dtype: int64"
            ],
            "text/html": [
              "<div>\n",
              "<style scoped>\n",
              "    .dataframe tbody tr th:only-of-type {\n",
              "        vertical-align: middle;\n",
              "    }\n",
              "\n",
              "    .dataframe tbody tr th {\n",
              "        vertical-align: top;\n",
              "    }\n",
              "\n",
              "    .dataframe thead th {\n",
              "        text-align: right;\n",
              "    }\n",
              "</style>\n",
              "<table border=\"1\" class=\"dataframe\">\n",
              "  <thead>\n",
              "    <tr style=\"text-align: right;\">\n",
              "      <th></th>\n",
              "      <th>count</th>\n",
              "    </tr>\n",
              "    <tr>\n",
              "      <th>situacao_candidado</th>\n",
              "      <th></th>\n",
              "    </tr>\n",
              "  </thead>\n",
              "  <tbody>\n",
              "    <tr>\n",
              "      <th>0</th>\n",
              "      <td>50563</td>\n",
              "    </tr>\n",
              "    <tr>\n",
              "      <th>1</th>\n",
              "      <td>3196</td>\n",
              "    </tr>\n",
              "  </tbody>\n",
              "</table>\n",
              "</div><br><label><b>dtype:</b> int64</label>"
            ]
          },
          "metadata": {},
          "execution_count": 95
        }
      ],
      "source": [
        "#Contando a frequência de cada valor único na coluna 'situacao_candidado' do df_prospects\n",
        "df_prospects['situacao_candidado'].value_counts()"
      ]
    },
    {
      "cell_type": "code",
      "execution_count": 96,
      "metadata": {
        "id": "KmddrDbrRYuu"
      },
      "outputs": [],
      "source": [
        "#Selecionando apenas as 'codigo' e 'situacao_candidado' do df_prospects e cria um novo chamado df_prospects_concac\n",
        "df_prospects_concac = df_prospects[['codigo','situacao_candidado']]"
      ]
    },
    {
      "cell_type": "code",
      "execution_count": 97,
      "metadata": {
        "colab": {
          "base_uri": "https://localhost:8080/",
          "height": 147
        },
        "id": "D_BE3nu5RY27",
        "outputId": "5ec56ca3-6982-42cd-cadb-225b8e007b56"
      },
      "outputs": [
        {
          "output_type": "execute_result",
          "data": {
            "text/plain": [
              "codigo                object\n",
              "situacao_candidado     int64\n",
              "dtype: object"
            ],
            "text/html": [
              "<div>\n",
              "<style scoped>\n",
              "    .dataframe tbody tr th:only-of-type {\n",
              "        vertical-align: middle;\n",
              "    }\n",
              "\n",
              "    .dataframe tbody tr th {\n",
              "        vertical-align: top;\n",
              "    }\n",
              "\n",
              "    .dataframe thead th {\n",
              "        text-align: right;\n",
              "    }\n",
              "</style>\n",
              "<table border=\"1\" class=\"dataframe\">\n",
              "  <thead>\n",
              "    <tr style=\"text-align: right;\">\n",
              "      <th></th>\n",
              "      <th>0</th>\n",
              "    </tr>\n",
              "  </thead>\n",
              "  <tbody>\n",
              "    <tr>\n",
              "      <th>codigo</th>\n",
              "      <td>object</td>\n",
              "    </tr>\n",
              "    <tr>\n",
              "      <th>situacao_candidado</th>\n",
              "      <td>int64</td>\n",
              "    </tr>\n",
              "  </tbody>\n",
              "</table>\n",
              "</div><br><label><b>dtype:</b> object</label>"
            ]
          },
          "metadata": {},
          "execution_count": 97
        }
      ],
      "source": [
        "#Verifica o tipo das colunas do df\n",
        "df_prospects_concac.dtypes"
      ]
    },
    {
      "cell_type": "code",
      "execution_count": 98,
      "metadata": {
        "id": "WoFvTG3ZRXHv"
      },
      "outputs": [],
      "source": [
        "# Renomendo a coluna 'codigo' para 'codigo_profissional' no DataFrame df_prospects_concac\n",
        "df_prospects_concac.rename(columns={'codigo': 'codigo_profissional'}, inplace=True)\n",
        "\n",
        "#Convertendo os valores da coluna 'codigo_profissional' para tipo inteiro (int)\n",
        "df_prospects_concac['codigo_profissional'] = df_prospects_concac['codigo_profissional'].astype(int)"
      ]
    },
    {
      "cell_type": "code",
      "execution_count": 99,
      "metadata": {
        "id": "scFJNGFcRXKf"
      },
      "outputs": [],
      "source": [
        "#Selecionando os códigos dos profissionais que foram aprovados e armazena na variável deletar_aprov\n",
        "deletar_aprov = df_prospects_concac[df_prospects_concac['situacao_candidado'] == 1]['codigo_profissional']"
      ]
    },
    {
      "cell_type": "code",
      "execution_count": 100,
      "metadata": {
        "id": "m-SpFxTGRPTJ"
      },
      "outputs": [],
      "source": [
        "#Criando o df_prospects_tratado contendo apenas os profissionais *não aprovados* e contabiliza quantos registros existem para cada profissional\n",
        "df_prospects_tratado = df_prospects_concac[df_prospects_concac['situacao_candidado'] == 0].groupby(by='codigo_profissional').count().reset_index()"
      ]
    },
    {
      "cell_type": "code",
      "execution_count": 101,
      "metadata": {
        "id": "6CH9qu-DRm8p"
      },
      "outputs": [],
      "source": [
        "#Renomendo a coluna 'situacao_candidado' para 'quantidade_prospect' no  df_prospects_tratado\n",
        "df_prospects_tratado.rename(columns={'situacao_candidado':'quantidade_prospect'},inplace=True)"
      ]
    },
    {
      "cell_type": "code",
      "execution_count": 102,
      "metadata": {
        "id": "7Ese3ZUqRnD9"
      },
      "outputs": [],
      "source": [
        "#Realiza o merge entre dois dfs\n",
        "df_merge = pd.merge(df_unico, df_prospects_tratado, on=['codigo_profissional'], how='left')"
      ]
    },
    {
      "cell_type": "code",
      "execution_count": 103,
      "metadata": {
        "id": "J517EnDiRnH-"
      },
      "outputs": [],
      "source": [
        "#Removendo do df_merge todas as linhas cujo 'codigo_profissional esteja na lista deletar_aprov.\n",
        "df_merge = df_merge[~df_merge['codigo_profissional'].isin(deletar_aprov)]"
      ]
    },
    {
      "cell_type": "code",
      "execution_count": 104,
      "metadata": {
        "id": "Ok2AsOYrRPXN"
      },
      "outputs": [],
      "source": [
        "#Substituindo os valores ausentes na coluna 'quantidade_prospect' por 0\n",
        "df_merge['quantidade_prospect'].fillna(0,inplace=True)"
      ]
    },
    {
      "cell_type": "code",
      "execution_count": 105,
      "metadata": {
        "id": "H2BE-YhARPZW"
      },
      "outputs": [],
      "source": [
        "#Convertendo os valores da coluna 'quantidade_prospect' para o tipo int\n",
        "df_merge['quantidade_prospect'] = df_merge['quantidade_prospect'].astype(int)"
      ]
    },
    {
      "cell_type": "code",
      "execution_count": 106,
      "metadata": {
        "colab": {
          "base_uri": "https://localhost:8080/",
          "height": 241
        },
        "id": "I3nfpVz2RwIN",
        "outputId": "d3204719-bd01-46d1-d4f3-52fbdf9eb2b2"
      },
      "outputs": [
        {
          "output_type": "execute_result",
          "data": {
            "text/plain": [
              "codigo_profissional               27011\n",
              "perfil_concatenado_hard_skills    10807\n",
              "perfil_concatenado_education       1800\n",
              "perfil_concatenado_personal         996\n",
              "quantidade_prospect                  35\n",
              "dtype: int64"
            ],
            "text/html": [
              "<div>\n",
              "<style scoped>\n",
              "    .dataframe tbody tr th:only-of-type {\n",
              "        vertical-align: middle;\n",
              "    }\n",
              "\n",
              "    .dataframe tbody tr th {\n",
              "        vertical-align: top;\n",
              "    }\n",
              "\n",
              "    .dataframe thead th {\n",
              "        text-align: right;\n",
              "    }\n",
              "</style>\n",
              "<table border=\"1\" class=\"dataframe\">\n",
              "  <thead>\n",
              "    <tr style=\"text-align: right;\">\n",
              "      <th></th>\n",
              "      <th>0</th>\n",
              "    </tr>\n",
              "  </thead>\n",
              "  <tbody>\n",
              "    <tr>\n",
              "      <th>codigo_profissional</th>\n",
              "      <td>27011</td>\n",
              "    </tr>\n",
              "    <tr>\n",
              "      <th>perfil_concatenado_hard_skills</th>\n",
              "      <td>10807</td>\n",
              "    </tr>\n",
              "    <tr>\n",
              "      <th>perfil_concatenado_education</th>\n",
              "      <td>1800</td>\n",
              "    </tr>\n",
              "    <tr>\n",
              "      <th>perfil_concatenado_personal</th>\n",
              "      <td>996</td>\n",
              "    </tr>\n",
              "    <tr>\n",
              "      <th>quantidade_prospect</th>\n",
              "      <td>35</td>\n",
              "    </tr>\n",
              "  </tbody>\n",
              "</table>\n",
              "</div><br><label><b>dtype:</b> int64</label>"
            ]
          },
          "metadata": {},
          "execution_count": 106
        }
      ],
      "source": [
        "#Retornando a quantidade de valores únicos em cada coluna do df_merge\n",
        "df_merge.nunique()"
      ]
    },
    {
      "cell_type": "code",
      "execution_count": 107,
      "metadata": {
        "id": "rXyvxz-CRwKr"
      },
      "outputs": [],
      "source": [
        "#Criando uma cópia do  df_merge contendo apenas as colunas relacionadas\n",
        "\n",
        "df_hard_skills = df_merge[[\"codigo_profissional\", \"perfil_concatenado_hard_skills\", \"quantidade_prospect\"]].copy()\n",
        "\n",
        "df_education = df_merge[[\"codigo_profissional\", \"perfil_concatenado_education\"]].copy()\n",
        "\n",
        "df_personal = df_merge[[\"codigo_profissional\", \"perfil_concatenado_personal\"]].copy()"
      ]
    },
    {
      "cell_type": "code",
      "execution_count": 108,
      "metadata": {
        "colab": {
          "base_uri": "https://localhost:8080/"
        },
        "id": "F_NpUDxeRwNM",
        "outputId": "2c294d27-4067-4bdc-840a-057b8efeda4b"
      },
      "outputs": [
        {
          "output_type": "execute_result",
          "data": {
            "text/plain": [
              "Index(['codigo_vaga', 'data_requicisao', 'limite_esperado_para_contratacao',\n",
              "       'titulo_vaga', 'vaga_sap', 'cliente', 'solicitante_cliente',\n",
              "       'empresa_divisao', 'requisitante', 'analista_responsavel',\n",
              "       'tipo_contratacao', 'prazo_contratacao', 'objetivo_vaga',\n",
              "       'prioridade_vaga', 'origem_vaga', 'superior_imediato', 'nome',\n",
              "       'telefone', 'data_inicial', 'data_final', 'nome_substituto', 'pais',\n",
              "       'estado', 'cidade', 'bairro', 'regiao', 'local_trabalho',\n",
              "       'vaga_especifica_para_pcd', 'faixa_etaria', 'horario_trabalho',\n",
              "       'nivel profissional', 'nivel_academico', 'nivel_ingles',\n",
              "       'nivel_espanhol', 'outro_idioma', 'areas_atuacao',\n",
              "       'principais_atividades', 'competencia_tecnicas_e_comportamentais',\n",
              "       'demais_observacoes', 'viagens_requeridas', 'equipamentos_necessarios',\n",
              "       'habilidades_comportamentais_necessarias', 'valor_venda',\n",
              "       'valor_compra_1', 'valor_compra_2'],\n",
              "      dtype='object')"
            ]
          },
          "metadata": {},
          "execution_count": 108
        }
      ],
      "source": [
        "#Retornando os nomes de todas as colunas do df_vagas\n",
        "df_vagas.columns"
      ]
    },
    {
      "cell_type": "code",
      "execution_count": 109,
      "metadata": {
        "id": "4bFHM2IESCbZ"
      },
      "outputs": [],
      "source": [
        "#Definindo uma lista de colunas relevantes para análise das vagas\n",
        "col_vagas = [\n",
        "    'codigo_vaga',\n",
        "    'titulo_vaga',\n",
        "    'vaga_especifica_para_pcd',\n",
        "    'nivel profissional',\n",
        "    'nivel_academico',\n",
        "    'nivel_ingles',\n",
        "    'nivel_espanhol',\n",
        "    'outro_idioma',\n",
        "    'areas_atuacao',\n",
        "    'principais_atividades',\n",
        "    'competencia_tecnicas_e_comportamentais',\n",
        "    'estado',\n",
        "    'cidade'\n",
        "]\n",
        "\n",
        "#Selecionando apenas as colunas definidas em col_vagas no DataFrame df_vagas\n",
        "df_vagas = df_vagas[col_vagas]"
      ]
    },
    {
      "cell_type": "code",
      "execution_count": 110,
      "metadata": {
        "id": "2NZRNnoBSCd9"
      },
      "outputs": [],
      "source": [
        "df_vagas['titulo_vaga'] = df_vagas['titulo_vaga'].str.replace(r'\\b\\w*\\d+\\s*-\\s*', '', regex=True).str.strip()\n",
        "df_vagas['titulo_vaga'] = df_vagas['titulo_vaga'].str.replace(r'\\s*-\\s*\\d+$', '', regex=True).str.strip()"
      ]
    },
    {
      "cell_type": "code",
      "execution_count": 111,
      "metadata": {
        "id": "vsd2gtX_SCgS"
      },
      "outputs": [],
      "source": [
        "#Removendo padrões numéricos específicos do início do título da vaga\n",
        "df_vagas['principais_atividades'] = (\n",
        "    df_vagas['principais_atividades']\n",
        "    .str.replace(r'\\n+', ' ', regex=True)\n",
        "    .str.replace('•', '')\n",
        "    .str.replace('', '')\n",
        "    .str.strip()\n",
        ")\n"
      ]
    },
    {
      "cell_type": "code",
      "execution_count": 112,
      "metadata": {
        "id": "cvfswvgaSCl1"
      },
      "outputs": [],
      "source": [
        "#Limpando e padronizando o texto da coluna 'competencia_tecnicas_e_comportamentais' no df_vagas\n",
        "df_vagas['competencia_tecnicas_e_comportamentais'] = (\n",
        "    df_vagas['competencia_tecnicas_e_comportamentais']\n",
        "    .str.replace(r'\\n+', ' ', regex=True)\n",
        "    .str.replace('•', '')\n",
        "    .str.replace('', '')\n",
        "    .str.strip()\n",
        ")"
      ]
    },
    {
      "cell_type": "code",
      "execution_count": 113,
      "metadata": {
        "colab": {
          "base_uri": "https://localhost:8080/",
          "height": 492
        },
        "id": "pDuxl99kSKW3",
        "outputId": "fc9bd58e-308a-4f03-bc34-cffed27987eb"
      },
      "outputs": [
        {
          "output_type": "execute_result",
          "data": {
            "text/plain": [
              "codigo_vaga                               0\n",
              "titulo_vaga                               0\n",
              "vaga_especifica_para_pcd                  0\n",
              "nivel profissional                        0\n",
              "nivel_academico                           0\n",
              "nivel_ingles                              0\n",
              "nivel_espanhol                            0\n",
              "outro_idioma                              0\n",
              "areas_atuacao                             0\n",
              "principais_atividades                     0\n",
              "competencia_tecnicas_e_comportamentais    0\n",
              "estado                                    0\n",
              "cidade                                    0\n",
              "dtype: int64"
            ],
            "text/html": [
              "<div>\n",
              "<style scoped>\n",
              "    .dataframe tbody tr th:only-of-type {\n",
              "        vertical-align: middle;\n",
              "    }\n",
              "\n",
              "    .dataframe tbody tr th {\n",
              "        vertical-align: top;\n",
              "    }\n",
              "\n",
              "    .dataframe thead th {\n",
              "        text-align: right;\n",
              "    }\n",
              "</style>\n",
              "<table border=\"1\" class=\"dataframe\">\n",
              "  <thead>\n",
              "    <tr style=\"text-align: right;\">\n",
              "      <th></th>\n",
              "      <th>0</th>\n",
              "    </tr>\n",
              "  </thead>\n",
              "  <tbody>\n",
              "    <tr>\n",
              "      <th>codigo_vaga</th>\n",
              "      <td>0</td>\n",
              "    </tr>\n",
              "    <tr>\n",
              "      <th>titulo_vaga</th>\n",
              "      <td>0</td>\n",
              "    </tr>\n",
              "    <tr>\n",
              "      <th>vaga_especifica_para_pcd</th>\n",
              "      <td>0</td>\n",
              "    </tr>\n",
              "    <tr>\n",
              "      <th>nivel profissional</th>\n",
              "      <td>0</td>\n",
              "    </tr>\n",
              "    <tr>\n",
              "      <th>nivel_academico</th>\n",
              "      <td>0</td>\n",
              "    </tr>\n",
              "    <tr>\n",
              "      <th>nivel_ingles</th>\n",
              "      <td>0</td>\n",
              "    </tr>\n",
              "    <tr>\n",
              "      <th>nivel_espanhol</th>\n",
              "      <td>0</td>\n",
              "    </tr>\n",
              "    <tr>\n",
              "      <th>outro_idioma</th>\n",
              "      <td>0</td>\n",
              "    </tr>\n",
              "    <tr>\n",
              "      <th>areas_atuacao</th>\n",
              "      <td>0</td>\n",
              "    </tr>\n",
              "    <tr>\n",
              "      <th>principais_atividades</th>\n",
              "      <td>0</td>\n",
              "    </tr>\n",
              "    <tr>\n",
              "      <th>competencia_tecnicas_e_comportamentais</th>\n",
              "      <td>0</td>\n",
              "    </tr>\n",
              "    <tr>\n",
              "      <th>estado</th>\n",
              "      <td>0</td>\n",
              "    </tr>\n",
              "    <tr>\n",
              "      <th>cidade</th>\n",
              "      <td>0</td>\n",
              "    </tr>\n",
              "  </tbody>\n",
              "</table>\n",
              "</div><br><label><b>dtype:</b> int64</label>"
            ]
          },
          "metadata": {},
          "execution_count": 113
        }
      ],
      "source": [
        "#Contando a quantidade de valores ausentes em cada coluna do df_vagas\n",
        "df_vagas.isnull().sum()"
      ]
    },
    {
      "cell_type": "code",
      "execution_count": 114,
      "metadata": {
        "colab": {
          "base_uri": "https://localhost:8080/",
          "height": 492
        },
        "id": "D8lV7i_8SKZR",
        "outputId": "d6919547-3953-46c5-829c-f14c5cda4bd7"
      },
      "outputs": [
        {
          "output_type": "execute_result",
          "data": {
            "text/plain": [
              "codigo_vaga                                   0\n",
              "titulo_vaga                                   0\n",
              "vaga_especifica_para_pcd                   1948\n",
              "nivel profissional                            0\n",
              "nivel_academico                               0\n",
              "nivel_ingles                                  0\n",
              "nivel_espanhol                             1304\n",
              "outro_idioma                              13708\n",
              "areas_atuacao                                15\n",
              "principais_atividades                         3\n",
              "competencia_tecnicas_e_comportamentais        6\n",
              "estado                                       11\n",
              "cidade                                       51\n",
              "dtype: int64"
            ],
            "text/html": [
              "<div>\n",
              "<style scoped>\n",
              "    .dataframe tbody tr th:only-of-type {\n",
              "        vertical-align: middle;\n",
              "    }\n",
              "\n",
              "    .dataframe tbody tr th {\n",
              "        vertical-align: top;\n",
              "    }\n",
              "\n",
              "    .dataframe thead th {\n",
              "        text-align: right;\n",
              "    }\n",
              "</style>\n",
              "<table border=\"1\" class=\"dataframe\">\n",
              "  <thead>\n",
              "    <tr style=\"text-align: right;\">\n",
              "      <th></th>\n",
              "      <th>0</th>\n",
              "    </tr>\n",
              "  </thead>\n",
              "  <tbody>\n",
              "    <tr>\n",
              "      <th>codigo_vaga</th>\n",
              "      <td>0</td>\n",
              "    </tr>\n",
              "    <tr>\n",
              "      <th>titulo_vaga</th>\n",
              "      <td>0</td>\n",
              "    </tr>\n",
              "    <tr>\n",
              "      <th>vaga_especifica_para_pcd</th>\n",
              "      <td>1948</td>\n",
              "    </tr>\n",
              "    <tr>\n",
              "      <th>nivel profissional</th>\n",
              "      <td>0</td>\n",
              "    </tr>\n",
              "    <tr>\n",
              "      <th>nivel_academico</th>\n",
              "      <td>0</td>\n",
              "    </tr>\n",
              "    <tr>\n",
              "      <th>nivel_ingles</th>\n",
              "      <td>0</td>\n",
              "    </tr>\n",
              "    <tr>\n",
              "      <th>nivel_espanhol</th>\n",
              "      <td>1304</td>\n",
              "    </tr>\n",
              "    <tr>\n",
              "      <th>outro_idioma</th>\n",
              "      <td>13708</td>\n",
              "    </tr>\n",
              "    <tr>\n",
              "      <th>areas_atuacao</th>\n",
              "      <td>15</td>\n",
              "    </tr>\n",
              "    <tr>\n",
              "      <th>principais_atividades</th>\n",
              "      <td>3</td>\n",
              "    </tr>\n",
              "    <tr>\n",
              "      <th>competencia_tecnicas_e_comportamentais</th>\n",
              "      <td>6</td>\n",
              "    </tr>\n",
              "    <tr>\n",
              "      <th>estado</th>\n",
              "      <td>11</td>\n",
              "    </tr>\n",
              "    <tr>\n",
              "      <th>cidade</th>\n",
              "      <td>51</td>\n",
              "    </tr>\n",
              "  </tbody>\n",
              "</table>\n",
              "</div><br><label><b>dtype:</b> int64</label>"
            ]
          },
          "metadata": {},
          "execution_count": 114
        }
      ],
      "source": [
        "#Contando para cada coluna do df_vagas quantas células contêm uma string vazia\n",
        "(df_vagas == \"\").sum()"
      ]
    },
    {
      "cell_type": "code",
      "execution_count": 115,
      "metadata": {
        "id": "vZ-YIDB_SKbl"
      },
      "outputs": [],
      "source": [
        "#Renomendo a coluna 'nivel profissional' para 'nivel_profissional' no df_vagas\n",
        "\n",
        "df_vagas.rename(columns={\"nivel profissional\":\"nivel_profissional\"},inplace=True)"
      ]
    },
    {
      "cell_type": "code",
      "execution_count": 116,
      "metadata": {
        "id": "Q3khSYDQSKdt"
      },
      "outputs": [],
      "source": [
        "#Definindo listas de colunas de interesse para cada grupo de informações sobre as vagas\n",
        "hard_skills_vagas = [\n",
        "    \"titulo_vaga\"\n",
        "    ,\"areas_atuacao\"\n",
        "    ,\"principais_atividades\"\n",
        "    ,\"competencia_tecnicas_e_comportamentais\"\n",
        "    ,\"nivel_profissional\"\n",
        "]\n",
        "\n",
        "education_vagas = [\n",
        "    \"nivel_academico\"\n",
        "    ,\"nivel_ingles\"\n",
        "    ,\"nivel_espanhol\"\n",
        "    ,\"outro_idioma\"\n",
        "]\n",
        "\n",
        "personal_vagas = [\n",
        "    \"vaga_especifica_para_pcd\"\n",
        "    ,\"estado\"\n",
        "    ,\"cidade\"\n",
        "]\n",
        "\n",
        "grupos_colunas_vagas = {\n",
        "    \"hard_skills_vagas\": hard_skills_vagas,\n",
        "    \"education_vagas\": education_vagas,\n",
        "    \"personal_vagas\": personal_vagas\n",
        "}\n",
        "\n",
        "#Aplicando a função criar_grupos_concac para concatenar as informações de cada grupo em uma coluna\n",
        "dfs_por_grupo_vaga = criar_grupos_concac(df_vagas, \"codigo_vaga\", grupos_colunas_vagas)\n",
        "\n",
        "#Extraindo os DataFrames de cada grupo do dicionário resultante\n",
        "df_hard_skills_vagas = dfs_por_grupo_vaga[\"hard_skills_vagas\"]\n",
        "df_education_vagas = dfs_por_grupo_vaga[\"education_vagas\"]\n",
        "df_personal_vagas = dfs_por_grupo_vaga[\"personal_vagas\"]"
      ]
    },
    {
      "cell_type": "code",
      "execution_count": 117,
      "metadata": {
        "id": "Iv1nZ7MGSiw9"
      },
      "outputs": [],
      "source": [
        "#Removendo linhas do df_personal onde o perfil concatenado está vazio\n",
        "df_personal = df_personal[df_personal['perfil_concatenado_personal'] != '']\n",
        "df_education = df_education[df_education['perfil_concatenado_education'] != '']"
      ]
    },
    {
      "cell_type": "markdown",
      "metadata": {
        "id": "-QggqJtX5LPe"
      },
      "source": [
        "# Seleção de NLP e Embeddings"
      ]
    },
    {
      "cell_type": "code",
      "execution_count": 118,
      "metadata": {
        "id": "-vVrWGMjSCo_"
      },
      "outputs": [],
      "source": [
        "from sentence_transformers import SentenceTransformer\n",
        "import pandas as pd\n",
        "\n",
        "#Carregando um modelo pré-treinado para gerar embeddings de frases em múltiplos idiomas\n",
        "model = SentenceTransformer('paraphrase-multilingual-MiniLM-L12-v2')\n",
        "#model = SentenceTransformer('all-MiniLM-L12-v22')\n",
        "\n",
        "#Função para gerar embeddings de uma coluna de texto em um df\n",
        "def gera_embeddings(df, col_texto, prefixo_nome_embedding):\n",
        "    df = df.copy()\n",
        "    df[col_texto] = df[col_texto].astype(str)\n",
        "\n",
        "    embeddings = model.encode(df[col_texto].tolist(), show_progress_bar=True)\n",
        "    embeddings_df = pd.DataFrame(\n",
        "        embeddings,\n",
        "        columns=[f'{prefixo_nome_embedding}_embedding_{i}' for i in range(embeddings.shape[1])]\n",
        "    )\n",
        "\n",
        "    #Concatena os embeddings ao df original e retorna o resultado\n",
        "    return pd.concat([df.reset_index(drop=True), embeddings_df], axis=1)"
      ]
    },
    {
      "cell_type": "code",
      "execution_count": 119,
      "metadata": {
        "id": "k-g9AQxaTDKr",
        "colab": {
          "base_uri": "https://localhost:8080/",
          "height": 113,
          "referenced_widgets": [
            "487e1f1c1e104387a2582d1855a5f5bd",
            "6631efbf158d4608ab900e1e4c1191ae",
            "cb89158812094e1ab6c7b4ed3510d25b",
            "65d3d9f51c674ac5a6def39b59b4a942",
            "cc46f6df982f45b7a43d8edf53ff7dca",
            "16bcebb895104ac0a4bd2cb06d3e14bc",
            "d93e98bd190f40299b6ea44b1c0eca5f",
            "11ae338be6ce460781fa453b1d860fbb",
            "e844db15c9f94df2ba5a964f6226b55a",
            "b797fc8b6f7949f4a79a3908bc91efcd",
            "a61d8a22d83d40439fe0ef3d1a4b86fc",
            "31a01da2b1754124b3df14855acd03ea",
            "e2be3dfe7ba841d985c7282d30381c2b",
            "d3e5cc77a2af425691f02f9667df0bf1",
            "508e249e3d8e4430abeec935700acb4e",
            "45afb4109e8f4109a8e0e3db28b1f01d",
            "30354a60845541b8918ee6022bc9b7e5",
            "c410d60b7e64447dbaae784e09c5b8d7",
            "5d68906d7fb8465b904f655237b22bdb",
            "d949e37efb4b46d18751789594b659c4",
            "a3a345e6293f4fe2a89ba53188af6fd8",
            "750faa17583140e0b8f2ea425ed507dd",
            "a4dcd3ac0e384f7e8b41ef74938ce5d2",
            "79237af4723d4accab40c1d588e5906a",
            "a0eeb80ffeba4b188bb8c5bfe08f8126",
            "7caf15704b504cc382c1e3a8e837d0ca",
            "c49edcc40719479da85ea64716df5f9b",
            "3ea62f764e844a3186f3f628b6ca6206",
            "5b69f8b91af24040906d9f2df62666a4",
            "a82dc67319c5485c8f127bed8ccdc958",
            "c514e65445a747cda86eca206162b4e2",
            "cad634b797e142998ef7afdd96610c94",
            "189b8554f7c046a8b8a3d561666d276a"
          ]
        },
        "outputId": "c685854c-4de1-41fe-9c29-f8e1bf96eef2"
      },
      "outputs": [
        {
          "output_type": "display_data",
          "data": {
            "text/plain": [
              "Batches:   0%|          | 0/845 [00:00<?, ?it/s]"
            ],
            "application/vnd.jupyter.widget-view+json": {
              "version_major": 2,
              "version_minor": 0,
              "model_id": "487e1f1c1e104387a2582d1855a5f5bd"
            }
          },
          "metadata": {}
        },
        {
          "output_type": "display_data",
          "data": {
            "text/plain": [
              "Batches:   0%|          | 0/845 [00:00<?, ?it/s]"
            ],
            "application/vnd.jupyter.widget-view+json": {
              "version_major": 2,
              "version_minor": 0,
              "model_id": "31a01da2b1754124b3df14855acd03ea"
            }
          },
          "metadata": {}
        },
        {
          "output_type": "display_data",
          "data": {
            "text/plain": [
              "Batches:   0%|          | 0/845 [00:00<?, ?it/s]"
            ],
            "application/vnd.jupyter.widget-view+json": {
              "version_major": 2,
              "version_minor": 0,
              "model_id": "a4dcd3ac0e384f7e8b41ef74938ce5d2"
            }
          },
          "metadata": {}
        }
      ],
      "source": [
        "#Gera embeddings para o texto concatenado de cada grupo de informações dos candidatos\n",
        "df_hard_skills_embed = gera_embeddings(df_hard_skills, 'perfil_concatenado_hard_skills', 'hard')\n",
        "df_education_embed = gera_embeddings(df_education, 'perfil_concatenado_education', 'edu')\n",
        "df_personal_embed = gera_embeddings(df_personal, 'perfil_concatenado_personal', 'pers')"
      ]
    },
    {
      "cell_type": "code",
      "execution_count": 120,
      "metadata": {
        "id": "dUUhOT-LTDNV"
      },
      "outputs": [],
      "source": [
        "#Definindo os pesos de cada grupo de informações para um cálculo de similaridade\n",
        "pesos = {\n",
        "    'hard_skills': 0.5,\n",
        "    'education': 0.3,\n",
        "    'personal': 0.2\n",
        "}"
      ]
    },
    {
      "cell_type": "code",
      "execution_count": 121,
      "metadata": {
        "id": "cz1yz4p9TDPj"
      },
      "outputs": [],
      "source": [
        "def aplica_peso(df_embed, peso, prefixo):\n",
        "    #Criando uma lista com o nome das colunas de df_embed que começam com o prefixo indicado\n",
        "    cols_embed = [col for col in df_embed.columns if col.startswith(prefixo)]\n",
        "\n",
        "    #Multiplicando todos os valores dessas colunas pelo peso informado.\n",
        "    df_embed[cols_embed] = df_embed[cols_embed] * peso\n",
        "    return df_embed"
      ]
    },
    {
      "cell_type": "code",
      "execution_count": 122,
      "metadata": {
        "id": "i1sCbP2VTDRx"
      },
      "outputs": [],
      "source": [
        "#Aplica o peso definido para o grupo aos embeddings\n",
        "df_hard_skills_embed = aplica_peso(df_hard_skills_embed, pesos['hard_skills'], 'hard')\n",
        "df_educacao_embed = aplica_peso(df_education_embed, pesos['education'], 'edu')\n",
        "df_pessoal_embed = aplica_peso(df_personal_embed, pesos['personal'], 'pers')"
      ]
    },
    {
      "cell_type": "code",
      "execution_count": 123,
      "metadata": {
        "id": "DSY0q9LNTb68"
      },
      "outputs": [],
      "source": [
        "#Faz um merge entre os dfs de embeddings de hard skills e de educacao, usando a coluna 'codigo_profissional' como chave\n",
        "df_temp = df_hard_skills_embed.merge(\n",
        "    df_education_embed, on='codigo_profissional', how='left', suffixes=('', '_edu')\n",
        ")\n",
        "\n",
        "#Faz um merge entre o df_temp e o df de embeddings de df_personal_embed\n",
        "df_final = df_temp.merge(\n",
        "    df_personal_embed, on='codigo_profissional', how='left', suffixes=('', '_pers')\n",
        ")"
      ]
    },
    {
      "cell_type": "code",
      "execution_count": 124,
      "metadata": {
        "id": "i0_PHg8NTb9p"
      },
      "outputs": [],
      "source": [
        "#Criando um novo df a partir de df_final, selecionando apenas as colunas cujo nome NÃO contém a expressão perfil_concatenado\n",
        "df_final_candidatos = df_final[df_final.columns[~df_final.columns.str.contains(\"perfil_concatenado\", case=False)]]"
      ]
    },
    {
      "cell_type": "code",
      "execution_count": 125,
      "metadata": {
        "id": "Eq_4GCZTTcAi"
      },
      "outputs": [],
      "source": [
        "#Substituindo todos os valores ausente no df_final_candidatos por 0\n",
        "df_final_candidatos.fillna(0,inplace=True)"
      ]
    },
    {
      "cell_type": "code",
      "execution_count": 126,
      "metadata": {
        "colab": {
          "base_uri": "https://localhost:8080/",
          "height": 113,
          "referenced_widgets": [
            "10c2f2e9a2634ecf964dd26acb23d79a",
            "c65ee581f32340d29649ea7cfd8df1bc",
            "b5c6e9e30326424ea85ae4cfca20791b",
            "72f4ff0f5ba749b5be38cb8d3fb9f43a",
            "0cb82e62d5a54be1b8bfc9bf2498a5e7",
            "924d05b4cb6c45f7931838479f836565",
            "51295140f8ba45ee9eae2017ecb17c5b",
            "6c75c687f33b4750b982a2ff68a01edc",
            "4a524b67e0d34c8a928edcd18897cde0",
            "30e6c7a28a744449bfe91fe466ed87c7",
            "01c484733e3d4212adf9fca837447c0f",
            "1de9c05416fd4ccd852cadd7918862f8",
            "26bf08052fad4d9b8cfa1a0e031b6afa",
            "4ccd83bf13d840578355252804aadd91",
            "65e0062c9a4a4753b8211385a010e722",
            "480b8ddddc8e41bc8dd6d39f3f353d40",
            "eccf3842628e4bfbbb840ad9a97f62a1",
            "da578a7f8031491f911baee8d63f2154",
            "4a79f82c2f6c48458a99d76f5ccab52e",
            "72a741d994ff4158ba4b2a4fac2828d0",
            "bc49ce46f4de4e41b49225249b97e77c",
            "da112becbde14380915f0a7033b7f610",
            "7f0fe90f066c40618f26fef42abb1fdb",
            "0dac1a30d794493c9285709661604b41",
            "aa1351d69b7c408daf3c3fdb8e1c98d0",
            "643f578ae7104d4ba4671f1470ac1c98",
            "1fbe8e5f892c433f842a1f77e9f7d128",
            "94ede52a4cb74c00898adddc2047fb83",
            "951f918f07ed4c84a29c0f18978581de",
            "cec9d1b7a933450290a181b25ed11512",
            "0f8b91530ed2496c8ccf208286918f02",
            "b588b32ffd74478db25632eacab45eae",
            "5510e5a8bfc84237bfabbfa6e519e22c"
          ]
        },
        "id": "QY3qnsZGTsEP",
        "outputId": "f4ab3970-4843-4d91-b09f-962e5e53b484"
      },
      "outputs": [
        {
          "output_type": "display_data",
          "data": {
            "text/plain": [
              "Batches:   0%|          | 0/441 [00:00<?, ?it/s]"
            ],
            "application/vnd.jupyter.widget-view+json": {
              "version_major": 2,
              "version_minor": 0,
              "model_id": "10c2f2e9a2634ecf964dd26acb23d79a"
            }
          },
          "metadata": {}
        },
        {
          "output_type": "display_data",
          "data": {
            "text/plain": [
              "Batches:   0%|          | 0/441 [00:00<?, ?it/s]"
            ],
            "application/vnd.jupyter.widget-view+json": {
              "version_major": 2,
              "version_minor": 0,
              "model_id": "1de9c05416fd4ccd852cadd7918862f8"
            }
          },
          "metadata": {}
        },
        {
          "output_type": "display_data",
          "data": {
            "text/plain": [
              "Batches:   0%|          | 0/441 [00:00<?, ?it/s]"
            ],
            "application/vnd.jupyter.widget-view+json": {
              "version_major": 2,
              "version_minor": 0,
              "model_id": "7f0fe90f066c40618f26fef42abb1fdb"
            }
          },
          "metadata": {}
        }
      ],
      "source": [
        "#Gerando embeddings para os textos\n",
        "df_hard_skills_embed_vaga = gera_embeddings(df_hard_skills_vagas, 'perfil_concatenado_hard_skills_vagas', 'vhard')\n",
        "df_education_embed_vaga = gera_embeddings(df_education_vagas, 'perfil_concatenado_education_vagas', 'vedu')\n",
        "df_personal_embed_vaga = gera_embeddings(df_personal_vagas, 'perfil_concatenado_personal_vagas', 'vpers')"
      ]
    },
    {
      "cell_type": "code",
      "execution_count": 127,
      "metadata": {
        "id": "947Lc2BHTsG3"
      },
      "outputs": [],
      "source": [
        "#Aplicando o peso definido para \"hard_skills\" (0.5) em todos os vetores\n",
        "df_hard_skills_vaga_embed = aplica_peso(df_hard_skills_embed_vaga, pesos['hard_skills'], 'vhard')\n",
        "df_education_vaga_embed = aplica_peso(df_education_embed_vaga, pesos['education'], 'vedu')\n",
        "df_personal_vaga_embed = aplica_peso(df_personal_embed_vaga, pesos['personal'], 'vpers')"
      ]
    },
    {
      "cell_type": "code",
      "execution_count": 128,
      "metadata": {
        "id": "Ri7_zhpQTsJa"
      },
      "outputs": [],
      "source": [
        "# Une os embeddings de hard skills df_hard_skills_vaga_embed com os embeddings de education de df_education_vaga_embed, usando a coluna 'codigo_vaga' como chave\n",
        "\n",
        "df_vagas_embed = df_hard_skills_vaga_embed.merge(\n",
        "    df_education_vaga_embed, on='codigo_vaga', how='left'\n",
        ").merge(\n",
        "    #Faz outro merge para juntar também os embeddings do grupo df_personal_vaga_embed, novamente usando 'codigo_vaga' como chave e garantindo que nenhuma vaga do conjunto base hard skills seja perdida\n",
        "    df_personal_vaga_embed, on='codigo_vaga', how='left'\n",
        ")\n",
        "\n",
        "df_vagas_embed.fillna(0, inplace=True)\n"
      ]
    },
    {
      "cell_type": "code",
      "execution_count": 129,
      "metadata": {
        "id": "aCe8x_SlTsLm"
      },
      "outputs": [],
      "source": [
        "#Criando o df_final_vagas contendo apenas as colunas de embeddings e outras colunas relevantes, removendo todas as colunas cujo nome contém \"perfil_concatenado\"\n",
        "df_final_vagas = df_vagas_embed[df_vagas_embed.columns[~df_vagas_embed.columns.str.contains(\"perfil_concatenado\", case=False)]]"
      ]
    },
    {
      "cell_type": "markdown",
      "metadata": {
        "id": "iXxX1wa733KL"
      },
      "source": [
        "# Salvamento do Modelo"
      ]
    },
    {
      "cell_type": "code",
      "execution_count": 130,
      "metadata": {
        "id": "GcUyfvlGTcCz"
      },
      "outputs": [],
      "source": [
        "import pickle\n",
        "import gzip\n",
        "\n",
        "df_final_candidatos.to_pickle(\"df_finalcandidatos.pkl\")\n",
        "df_final_vagas.to_pickle(\"df_finalvagas.pkl\")\n",
        "df_applicants.to_pickle(\"df_applicants.pkl\")\n",
        "df_vagas.to_pickle(\"df_vagas.pkl\")\n"
      ]
    },
    {
      "cell_type": "markdown",
      "metadata": {
        "id": "-t2_gf_9Hky0"
      },
      "source": [
        "# Validação do Modelo e Treinamento"
      ]
    },
    {
      "cell_type": "code",
      "execution_count": 131,
      "metadata": {
        "id": "7Mbk-273UuSx"
      },
      "outputs": [],
      "source": [
        "#Juntar as features de candidatos e vagas para cada par registrado em prospects\n",
        "df_pairs = (\n",
        "    df_prospects[['codigo_vaga','codigo','situacao_candidado']]\n",
        "      .rename(columns={'codigo':'codigo_profissional'})\n",
        "      .astype({'codigo_profissional': int}) # Convert to int before merging\n",
        "      .merge(df_final_candidatos, on='codigo_profissional', how='left')\n",
        "      .merge(df_final_vagas, on='codigo_vaga', how='left')\n",
        ")\n",
        "\n",
        "# Remove colunas não numéricas (ex.: nomes, textos) se houver\n",
        "X = df_pairs[[col for col in df_pairs.columns if 'embedding' in col]]\n",
        "y = df_pairs['situacao_candidado']"
      ]
    },
    {
      "cell_type": "code",
      "execution_count": 132,
      "metadata": {
        "id": "Qm7cfLBpEwF6"
      },
      "outputs": [],
      "source": [
        "from sklearn.model_selection import train_test_split\n",
        "\n",
        "#Dividindo os dados em conjuntos de treino e teste\n",
        "X_train, X_test, y_train, y_test = train_test_split(\n",
        "    X, y, test_size=0.2, random_state=42, stratify=y\n",
        ")\n"
      ]
    },
    {
      "cell_type": "code",
      "execution_count": 133,
      "metadata": {
        "id": "ptk8ZilkPZag"
      },
      "outputs": [],
      "source": [
        "#Criando uma lista com os nomes das colunas que contêm a palavra 'embedding'\n",
        "embedding_cols_candidatos = [c for c in df_final_candidatos.columns if 'embedding' in c]\n"
      ]
    },
    {
      "cell_type": "code",
      "execution_count": 134,
      "metadata": {
        "id": "gZuohWMhPkPm"
      },
      "outputs": [],
      "source": [
        "#Selecionando apenas as colunas de embeddings dos candidatos no DataFrame\n",
        "candidatos_vectors = df_final_candidatos[embedding_cols_candidatos].values\n"
      ]
    },
    {
      "cell_type": "code",
      "execution_count": 135,
      "metadata": {
        "id": "GQ82C0N_Pl3J"
      },
      "outputs": [],
      "source": [
        "embedding_cols_vaga = [c for c in df_final_vagas.columns if 'embedding' in c]\n",
        "codigo_vaga = 5900\n",
        "vaga_vector = df_final_vagas[df_final_vagas['codigo_vaga']==codigo_vaga][embedding_cols_vaga].values\n",
        "\n",
        "if vaga_vector.ndim == 1:\n",
        "    vaga_vector = vaga_vector.reshape(1, -1)"
      ]
    },
    {
      "cell_type": "code",
      "execution_count": 136,
      "metadata": {
        "id": "WBx7VwI7Prtn"
      },
      "outputs": [],
      "source": [
        "from sklearn.metrics.pairwise import cosine_similarity\n",
        "\n",
        "sim_scores = cosine_similarity(candidatos_vectors, vaga_vector).flatten()\n"
      ]
    },
    {
      "cell_type": "code",
      "execution_count": 137,
      "metadata": {
        "id": "hwND_Iz7PPdc",
        "colab": {
          "base_uri": "https://localhost:8080/"
        },
        "outputId": "fc4eb7a6-acaf-457f-9848-7c70c1514b13"
      },
      "outputs": [
        {
          "output_type": "stream",
          "name": "stdout",
          "text": [
            "Accuracy: 0.9929658287364407\n"
          ]
        }
      ],
      "source": [
        "from sklearn.metrics.pairwise import cosine_similarity\n",
        "from sklearn.metrics import accuracy_score, precision_score, recall_score, f1_score, roc_auc_score\n",
        "import numpy as np\n",
        "\n",
        "#Seleciona todas as colunas de df_final_candidatos cujo nome possui 'embedding'\n",
        "embedding_cols_candidatos = [c for c in df_final_candidatos.columns if 'embedding' in c]\n",
        "\n",
        "#Extrai em forma de array os vetores de embeddings de todos os candidatos\n",
        "candidatos_vectors = df_final_candidatos[embedding_cols_candidatos].values\n",
        "\n",
        "#Define o código da vaga a ser analisada\n",
        "codigo_vaga_input = 101\n",
        "\n",
        "#Seleciona as colunas de embeddings do df de vagas\n",
        "embedding_cols_vaga = [c for c in df_final_vagas.columns if 'embedding' in c]\n",
        "\n",
        "#Obtém o vetor de embeddings referente à vaga com o código especificado\n",
        "vaga_vector = df_final_vagas[\n",
        "    df_final_vagas['codigo_vaga'] == codigo_vaga_input\n",
        "][embedding_cols_vaga].values\n",
        "\n",
        "# Garante que vaga_vector seja 2D\n",
        "if vaga_vector.ndim == 1:\n",
        "    vaga_vector = vaga_vector.reshape(1, -1)\n",
        "\n",
        "# Calcula a similaridade de cosseno entre cada vetor de candidato e o vetor da vaga selecionada\n",
        "sim_scores = cosine_similarity(candidatos_vectors, vaga_vector).flatten()\n",
        "\n",
        "#Filtra o df de prospects para obter apenas os registros da vaga escolhida\n",
        "df_y_true = df_prospects[df_prospects['codigo_vaga'] == codigo_vaga_input]\n",
        "\n",
        "#Faz um merge para associar a cada candidato sua situação na vaga\n",
        "df_merge = df_final_candidatos.merge(\n",
        "    df_y_true[['codigo', 'situacao_candidado']]\n",
        "          .rename(columns={'codigo': 'codigo_profissional'})\n",
        "          .astype({'codigo_profissional': int}),\n",
        "    on='codigo_profissional',\n",
        "    how='left'\n",
        ")\n",
        "\n",
        "# Cria o vetor de rótulos reais se um candidato não tiver registro em df_prospects atribui 0\n",
        "y_true = df_merge['situacao_candidado'].fillna(0).values\n",
        "\n",
        "#Define um limiar para considerar um candidato como \"aprovado\" pela similaridade.\n",
        "threshold = 0.7\n",
        "\n",
        "#Gera as predições binárias:\n",
        "y_pred = (sim_scores >= threshold).astype(int)\n",
        "\n",
        "#Calcula e exibe a acurácia\n",
        "print(\"Accuracy:\", accuracy_score(y_true, y_pred))\n"
      ]
    },
    {
      "cell_type": "code",
      "execution_count": 138,
      "metadata": {
        "id": "kKozBuw_52pO"
      },
      "outputs": [],
      "source": [
        "from sklearn.metrics.pairwise import cosine_similarity\n",
        "\n",
        "def recomendar_candidatos_cosine(codigo_vaga_input, df_candidatos_final, df_vagas_final, top_n=5):\n",
        "    #Filtrando a vaga pelo código informado\n",
        "    vaga_embed = df_vagas_final[df_vagas_final['codigo_vaga'] == codigo_vaga_input]\n",
        "    if vaga_embed.empty:\n",
        "        return \"Vaga não encontrada.\"\n",
        "\n",
        "    #Selecionando colunas de embeddings para vaga e candidatos\n",
        "    embedding_cols_vaga = [col for col in df_vagas_final.columns if 'embedding' in col]\n",
        "    embedding_cols_candidatos = [col for col in df_candidatos_final.columns if 'embedding' in col]\n",
        "\n",
        "    #Extraindo vetor embedding da vaga (transforma para 2D se necessário)\n",
        "    vaga_vector = vaga_embed[embedding_cols_vaga].values\n",
        "    if vaga_vector.ndim == 1:\n",
        "        vaga_vector = vaga_vector.reshape(1, -1)\n",
        "\n",
        "    #Extraindo vetores embeddings dos candidatos\n",
        "    candidatos_vectors = df_candidatos_final[embedding_cols_candidatos].values\n",
        "\n",
        "    #Calcula similaridade do cosseno entre candidatos e a vaga\n",
        "    sim_scores = cosine_similarity(candidatos_vectors, vaga_vector).flatten()\n",
        "\n",
        "    #Criando cópia para adicionar as pontuações\n",
        "    candidatos_disponiveis = df_candidatos_final.copy()\n",
        "    candidatos_disponiveis['score_cosine'] = sim_scores\n",
        "\n",
        "    #Score em percentual formatado\n",
        "    candidatos_disponiveis['score_cosine_percentual'] = (candidatos_disponiveis['score_cosine'] * 100).round(2).astype(str) + '%'\n",
        "\n",
        "    #Garante tipo correto para merge\n",
        "    df_applicants['codigo_profissional'] = df_applicants['codigo_profissional'].astype(int)\n",
        "    candidatos_disponiveis['codigo_profissional'] = candidatos_disponiveis['codigo_profissional'].astype(int)\n",
        "\n",
        "    # Merge para adicionar informações extras dos candidatos\n",
        "    candidatos_com_info = candidatos_disponiveis.merge(\n",
        "        df_applicants[['codigo_profissional', 'objetivo_profissional']],\n",
        "        on='codigo_profissional',\n",
        "        how='left'\n",
        "    )\n",
        "\n",
        "    # Retorna top N candidatos ordenados pela pontuação\n",
        "    return candidatos_com_info.sort_values('score_cosine', ascending=False).head(top_n)[\n",
        "        ['codigo_profissional', 'objetivo_profissional', 'score_cosine_percentual', 'quantidade_prospect']\n",
        "    ]\n"
      ]
    },
    {
      "cell_type": "code",
      "execution_count": 139,
      "metadata": {
        "id": "urXx-cS0DK7i",
        "colab": {
          "base_uri": "https://localhost:8080/",
          "height": 206
        },
        "outputId": "cf8d812f-e859-4269-ecb7-d36b836f8057"
      },
      "outputs": [
        {
          "output_type": "execute_result",
          "data": {
            "text/plain": [
              "      codigo_profissional                              objetivo_profissional  \\\n",
              "4909                16865                                             DevOps   \n",
              "7114                23565                         Atuar com a cultura DevOps   \n",
              "7044                23398                 ANALISTA DESENVOLVEDOR DE SISTEMAS   \n",
              "9094                28744  Analista de Infraestrutura, Administrador de R...   \n",
              "8931                28283                                Analista de Suporte   \n",
              "\n",
              "     score_cosine_percentual  quantidade_prospect  \n",
              "4909                  81.57%                    1  \n",
              "7114                  81.03%                    2  \n",
              "7044                  79.19%                    0  \n",
              "9094                  77.23%                    2  \n",
              "8931                   77.2%                    1  "
            ],
            "text/html": [
              "\n",
              "  <div id=\"df-50465d31-ea54-48eb-9df1-001a42650123\" class=\"colab-df-container\">\n",
              "    <div>\n",
              "<style scoped>\n",
              "    .dataframe tbody tr th:only-of-type {\n",
              "        vertical-align: middle;\n",
              "    }\n",
              "\n",
              "    .dataframe tbody tr th {\n",
              "        vertical-align: top;\n",
              "    }\n",
              "\n",
              "    .dataframe thead th {\n",
              "        text-align: right;\n",
              "    }\n",
              "</style>\n",
              "<table border=\"1\" class=\"dataframe\">\n",
              "  <thead>\n",
              "    <tr style=\"text-align: right;\">\n",
              "      <th></th>\n",
              "      <th>codigo_profissional</th>\n",
              "      <th>objetivo_profissional</th>\n",
              "      <th>score_cosine_percentual</th>\n",
              "      <th>quantidade_prospect</th>\n",
              "    </tr>\n",
              "  </thead>\n",
              "  <tbody>\n",
              "    <tr>\n",
              "      <th>4909</th>\n",
              "      <td>16865</td>\n",
              "      <td>DevOps</td>\n",
              "      <td>81.57%</td>\n",
              "      <td>1</td>\n",
              "    </tr>\n",
              "    <tr>\n",
              "      <th>7114</th>\n",
              "      <td>23565</td>\n",
              "      <td>Atuar com a cultura DevOps</td>\n",
              "      <td>81.03%</td>\n",
              "      <td>2</td>\n",
              "    </tr>\n",
              "    <tr>\n",
              "      <th>7044</th>\n",
              "      <td>23398</td>\n",
              "      <td>ANALISTA DESENVOLVEDOR DE SISTEMAS</td>\n",
              "      <td>79.19%</td>\n",
              "      <td>0</td>\n",
              "    </tr>\n",
              "    <tr>\n",
              "      <th>9094</th>\n",
              "      <td>28744</td>\n",
              "      <td>Analista de Infraestrutura, Administrador de R...</td>\n",
              "      <td>77.23%</td>\n",
              "      <td>2</td>\n",
              "    </tr>\n",
              "    <tr>\n",
              "      <th>8931</th>\n",
              "      <td>28283</td>\n",
              "      <td>Analista de Suporte</td>\n",
              "      <td>77.2%</td>\n",
              "      <td>1</td>\n",
              "    </tr>\n",
              "  </tbody>\n",
              "</table>\n",
              "</div>\n",
              "    <div class=\"colab-df-buttons\">\n",
              "\n",
              "  <div class=\"colab-df-container\">\n",
              "    <button class=\"colab-df-convert\" onclick=\"convertToInteractive('df-50465d31-ea54-48eb-9df1-001a42650123')\"\n",
              "            title=\"Convert this dataframe to an interactive table.\"\n",
              "            style=\"display:none;\">\n",
              "\n",
              "  <svg xmlns=\"http://www.w3.org/2000/svg\" height=\"24px\" viewBox=\"0 -960 960 960\">\n",
              "    <path d=\"M120-120v-720h720v720H120Zm60-500h600v-160H180v160Zm220 220h160v-160H400v160Zm0 220h160v-160H400v160ZM180-400h160v-160H180v160Zm440 0h160v-160H620v160ZM180-180h160v-160H180v160Zm440 0h160v-160H620v160Z\"/>\n",
              "  </svg>\n",
              "    </button>\n",
              "\n",
              "  <style>\n",
              "    .colab-df-container {\n",
              "      display:flex;\n",
              "      gap: 12px;\n",
              "    }\n",
              "\n",
              "    .colab-df-convert {\n",
              "      background-color: #E8F0FE;\n",
              "      border: none;\n",
              "      border-radius: 50%;\n",
              "      cursor: pointer;\n",
              "      display: none;\n",
              "      fill: #1967D2;\n",
              "      height: 32px;\n",
              "      padding: 0 0 0 0;\n",
              "      width: 32px;\n",
              "    }\n",
              "\n",
              "    .colab-df-convert:hover {\n",
              "      background-color: #E2EBFA;\n",
              "      box-shadow: 0px 1px 2px rgba(60, 64, 67, 0.3), 0px 1px 3px 1px rgba(60, 64, 67, 0.15);\n",
              "      fill: #174EA6;\n",
              "    }\n",
              "\n",
              "    .colab-df-buttons div {\n",
              "      margin-bottom: 4px;\n",
              "    }\n",
              "\n",
              "    [theme=dark] .colab-df-convert {\n",
              "      background-color: #3B4455;\n",
              "      fill: #D2E3FC;\n",
              "    }\n",
              "\n",
              "    [theme=dark] .colab-df-convert:hover {\n",
              "      background-color: #434B5C;\n",
              "      box-shadow: 0px 1px 3px 1px rgba(0, 0, 0, 0.15);\n",
              "      filter: drop-shadow(0px 1px 2px rgba(0, 0, 0, 0.3));\n",
              "      fill: #FFFFFF;\n",
              "    }\n",
              "  </style>\n",
              "\n",
              "    <script>\n",
              "      const buttonEl =\n",
              "        document.querySelector('#df-50465d31-ea54-48eb-9df1-001a42650123 button.colab-df-convert');\n",
              "      buttonEl.style.display =\n",
              "        google.colab.kernel.accessAllowed ? 'block' : 'none';\n",
              "\n",
              "      async function convertToInteractive(key) {\n",
              "        const element = document.querySelector('#df-50465d31-ea54-48eb-9df1-001a42650123');\n",
              "        const dataTable =\n",
              "          await google.colab.kernel.invokeFunction('convertToInteractive',\n",
              "                                                    [key], {});\n",
              "        if (!dataTable) return;\n",
              "\n",
              "        const docLinkHtml = 'Like what you see? Visit the ' +\n",
              "          '<a target=\"_blank\" href=https://colab.research.google.com/notebooks/data_table.ipynb>data table notebook</a>'\n",
              "          + ' to learn more about interactive tables.';\n",
              "        element.innerHTML = '';\n",
              "        dataTable['output_type'] = 'display_data';\n",
              "        await google.colab.output.renderOutput(dataTable, element);\n",
              "        const docLink = document.createElement('div');\n",
              "        docLink.innerHTML = docLinkHtml;\n",
              "        element.appendChild(docLink);\n",
              "      }\n",
              "    </script>\n",
              "  </div>\n",
              "\n",
              "\n",
              "    <div id=\"df-ab2ae52b-5f24-40b5-b630-20564bcff189\">\n",
              "      <button class=\"colab-df-quickchart\" onclick=\"quickchart('df-ab2ae52b-5f24-40b5-b630-20564bcff189')\"\n",
              "                title=\"Suggest charts\"\n",
              "                style=\"display:none;\">\n",
              "\n",
              "<svg xmlns=\"http://www.w3.org/2000/svg\" height=\"24px\"viewBox=\"0 0 24 24\"\n",
              "     width=\"24px\">\n",
              "    <g>\n",
              "        <path d=\"M19 3H5c-1.1 0-2 .9-2 2v14c0 1.1.9 2 2 2h14c1.1 0 2-.9 2-2V5c0-1.1-.9-2-2-2zM9 17H7v-7h2v7zm4 0h-2V7h2v10zm4 0h-2v-4h2v4z\"/>\n",
              "    </g>\n",
              "</svg>\n",
              "      </button>\n",
              "\n",
              "<style>\n",
              "  .colab-df-quickchart {\n",
              "      --bg-color: #E8F0FE;\n",
              "      --fill-color: #1967D2;\n",
              "      --hover-bg-color: #E2EBFA;\n",
              "      --hover-fill-color: #174EA6;\n",
              "      --disabled-fill-color: #AAA;\n",
              "      --disabled-bg-color: #DDD;\n",
              "  }\n",
              "\n",
              "  [theme=dark] .colab-df-quickchart {\n",
              "      --bg-color: #3B4455;\n",
              "      --fill-color: #D2E3FC;\n",
              "      --hover-bg-color: #434B5C;\n",
              "      --hover-fill-color: #FFFFFF;\n",
              "      --disabled-bg-color: #3B4455;\n",
              "      --disabled-fill-color: #666;\n",
              "  }\n",
              "\n",
              "  .colab-df-quickchart {\n",
              "    background-color: var(--bg-color);\n",
              "    border: none;\n",
              "    border-radius: 50%;\n",
              "    cursor: pointer;\n",
              "    display: none;\n",
              "    fill: var(--fill-color);\n",
              "    height: 32px;\n",
              "    padding: 0;\n",
              "    width: 32px;\n",
              "  }\n",
              "\n",
              "  .colab-df-quickchart:hover {\n",
              "    background-color: var(--hover-bg-color);\n",
              "    box-shadow: 0 1px 2px rgba(60, 64, 67, 0.3), 0 1px 3px 1px rgba(60, 64, 67, 0.15);\n",
              "    fill: var(--button-hover-fill-color);\n",
              "  }\n",
              "\n",
              "  .colab-df-quickchart-complete:disabled,\n",
              "  .colab-df-quickchart-complete:disabled:hover {\n",
              "    background-color: var(--disabled-bg-color);\n",
              "    fill: var(--disabled-fill-color);\n",
              "    box-shadow: none;\n",
              "  }\n",
              "\n",
              "  .colab-df-spinner {\n",
              "    border: 2px solid var(--fill-color);\n",
              "    border-color: transparent;\n",
              "    border-bottom-color: var(--fill-color);\n",
              "    animation:\n",
              "      spin 1s steps(1) infinite;\n",
              "  }\n",
              "\n",
              "  @keyframes spin {\n",
              "    0% {\n",
              "      border-color: transparent;\n",
              "      border-bottom-color: var(--fill-color);\n",
              "      border-left-color: var(--fill-color);\n",
              "    }\n",
              "    20% {\n",
              "      border-color: transparent;\n",
              "      border-left-color: var(--fill-color);\n",
              "      border-top-color: var(--fill-color);\n",
              "    }\n",
              "    30% {\n",
              "      border-color: transparent;\n",
              "      border-left-color: var(--fill-color);\n",
              "      border-top-color: var(--fill-color);\n",
              "      border-right-color: var(--fill-color);\n",
              "    }\n",
              "    40% {\n",
              "      border-color: transparent;\n",
              "      border-right-color: var(--fill-color);\n",
              "      border-top-color: var(--fill-color);\n",
              "    }\n",
              "    60% {\n",
              "      border-color: transparent;\n",
              "      border-right-color: var(--fill-color);\n",
              "    }\n",
              "    80% {\n",
              "      border-color: transparent;\n",
              "      border-right-color: var(--fill-color);\n",
              "      border-bottom-color: var(--fill-color);\n",
              "    }\n",
              "    90% {\n",
              "      border-color: transparent;\n",
              "      border-bottom-color: var(--fill-color);\n",
              "    }\n",
              "  }\n",
              "</style>\n",
              "\n",
              "      <script>\n",
              "        async function quickchart(key) {\n",
              "          const quickchartButtonEl =\n",
              "            document.querySelector('#' + key + ' button');\n",
              "          quickchartButtonEl.disabled = true;  // To prevent multiple clicks.\n",
              "          quickchartButtonEl.classList.add('colab-df-spinner');\n",
              "          try {\n",
              "            const charts = await google.colab.kernel.invokeFunction(\n",
              "                'suggestCharts', [key], {});\n",
              "          } catch (error) {\n",
              "            console.error('Error during call to suggestCharts:', error);\n",
              "          }\n",
              "          quickchartButtonEl.classList.remove('colab-df-spinner');\n",
              "          quickchartButtonEl.classList.add('colab-df-quickchart-complete');\n",
              "        }\n",
              "        (() => {\n",
              "          let quickchartButtonEl =\n",
              "            document.querySelector('#df-ab2ae52b-5f24-40b5-b630-20564bcff189 button');\n",
              "          quickchartButtonEl.style.display =\n",
              "            google.colab.kernel.accessAllowed ? 'block' : 'none';\n",
              "        })();\n",
              "      </script>\n",
              "    </div>\n",
              "\n",
              "  <div id=\"id_182db58d-0d4c-4ffa-a478-749197bb76df\">\n",
              "    <style>\n",
              "      .colab-df-generate {\n",
              "        background-color: #E8F0FE;\n",
              "        border: none;\n",
              "        border-radius: 50%;\n",
              "        cursor: pointer;\n",
              "        display: none;\n",
              "        fill: #1967D2;\n",
              "        height: 32px;\n",
              "        padding: 0 0 0 0;\n",
              "        width: 32px;\n",
              "      }\n",
              "\n",
              "      .colab-df-generate:hover {\n",
              "        background-color: #E2EBFA;\n",
              "        box-shadow: 0px 1px 2px rgba(60, 64, 67, 0.3), 0px 1px 3px 1px rgba(60, 64, 67, 0.15);\n",
              "        fill: #174EA6;\n",
              "      }\n",
              "\n",
              "      [theme=dark] .colab-df-generate {\n",
              "        background-color: #3B4455;\n",
              "        fill: #D2E3FC;\n",
              "      }\n",
              "\n",
              "      [theme=dark] .colab-df-generate:hover {\n",
              "        background-color: #434B5C;\n",
              "        box-shadow: 0px 1px 3px 1px rgba(0, 0, 0, 0.15);\n",
              "        filter: drop-shadow(0px 1px 2px rgba(0, 0, 0, 0.3));\n",
              "        fill: #FFFFFF;\n",
              "      }\n",
              "    </style>\n",
              "    <button class=\"colab-df-generate\" onclick=\"generateWithVariable('resultado')\"\n",
              "            title=\"Generate code using this dataframe.\"\n",
              "            style=\"display:none;\">\n",
              "\n",
              "  <svg xmlns=\"http://www.w3.org/2000/svg\" height=\"24px\"viewBox=\"0 0 24 24\"\n",
              "       width=\"24px\">\n",
              "    <path d=\"M7,19H8.4L18.45,9,17,7.55,7,17.6ZM5,21V16.75L18.45,3.32a2,2,0,0,1,2.83,0l1.4,1.43a1.91,1.91,0,0,1,.58,1.4,1.91,1.91,0,0,1-.58,1.4L9.25,21ZM18.45,9,17,7.55Zm-12,3A5.31,5.31,0,0,0,4.9,8.1,5.31,5.31,0,0,0,1,6.5,5.31,5.31,0,0,0,4.9,4.9,5.31,5.31,0,0,0,6.5,1,5.31,5.31,0,0,0,8.1,4.9,5.31,5.31,0,0,0,12,6.5,5.46,5.46,0,0,0,6.5,12Z\"/>\n",
              "  </svg>\n",
              "    </button>\n",
              "    <script>\n",
              "      (() => {\n",
              "      const buttonEl =\n",
              "        document.querySelector('#id_182db58d-0d4c-4ffa-a478-749197bb76df button.colab-df-generate');\n",
              "      buttonEl.style.display =\n",
              "        google.colab.kernel.accessAllowed ? 'block' : 'none';\n",
              "\n",
              "      buttonEl.onclick = () => {\n",
              "        google.colab.notebook.generateWithVariable('resultado');\n",
              "      }\n",
              "      })();\n",
              "    </script>\n",
              "  </div>\n",
              "\n",
              "    </div>\n",
              "  </div>\n"
            ],
            "application/vnd.google.colaboratory.intrinsic+json": {
              "type": "dataframe",
              "variable_name": "resultado",
              "summary": "{\n  \"name\": \"resultado\",\n  \"rows\": 5,\n  \"fields\": [\n    {\n      \"column\": \"codigo_profissional\",\n      \"properties\": {\n        \"dtype\": \"number\",\n        \"std\": 4800,\n        \"min\": 16865,\n        \"max\": 28744,\n        \"num_unique_values\": 5,\n        \"samples\": [\n          23565,\n          28283,\n          23398\n        ],\n        \"semantic_type\": \"\",\n        \"description\": \"\"\n      }\n    },\n    {\n      \"column\": \"objetivo_profissional\",\n      \"properties\": {\n        \"dtype\": \"string\",\n        \"num_unique_values\": 5,\n        \"samples\": [\n          \"Atuar com a cultura DevOps\",\n          \"Analista de Suporte\",\n          \"ANALISTA DESENVOLVEDOR DE SISTEMAS\"\n        ],\n        \"semantic_type\": \"\",\n        \"description\": \"\"\n      }\n    },\n    {\n      \"column\": \"score_cosine_percentual\",\n      \"properties\": {\n        \"dtype\": \"string\",\n        \"num_unique_values\": 5,\n        \"samples\": [\n          \"81.03%\",\n          \"77.2%\",\n          \"79.19%\"\n        ],\n        \"semantic_type\": \"\",\n        \"description\": \"\"\n      }\n    },\n    {\n      \"column\": \"quantidade_prospect\",\n      \"properties\": {\n        \"dtype\": \"number\",\n        \"std\": 0,\n        \"min\": 0,\n        \"max\": 2,\n        \"num_unique_values\": 3,\n        \"samples\": [\n          1,\n          2,\n          0\n        ],\n        \"semantic_type\": \"\",\n        \"description\": \"\"\n      }\n    }\n  ]\n}"
            }
          },
          "metadata": {},
          "execution_count": 139
        }
      ],
      "source": [
        "#Testando a função de recomendação\n",
        "codigo_vaga = 5900\n",
        "\n",
        "resultado = recomendar_candidatos_cosine(codigo_vaga, df_final_candidatos, df_final_vagas, top_n=5)\n",
        "\n",
        "resultado"
      ]
    }
  ],
  "metadata": {
    "colab": {
      "provenance": [],
      "authorship_tag": "ABX9TyPpyBGF8sqmE+fLQtzsyQTd",
      "include_colab_link": true
    },
    "kernelspec": {
      "display_name": "Python 3",
      "name": "python3"
    },
    "language_info": {
      "name": "python"
    },
    "widgets": {
      "application/vnd.jupyter.widget-state+json": {
        "487e1f1c1e104387a2582d1855a5f5bd": {
          "model_module": "@jupyter-widgets/controls",
          "model_name": "HBoxModel",
          "model_module_version": "1.5.0",
          "state": {
            "_dom_classes": [],
            "_model_module": "@jupyter-widgets/controls",
            "_model_module_version": "1.5.0",
            "_model_name": "HBoxModel",
            "_view_count": null,
            "_view_module": "@jupyter-widgets/controls",
            "_view_module_version": "1.5.0",
            "_view_name": "HBoxView",
            "box_style": "",
            "children": [
              "IPY_MODEL_6631efbf158d4608ab900e1e4c1191ae",
              "IPY_MODEL_cb89158812094e1ab6c7b4ed3510d25b",
              "IPY_MODEL_65d3d9f51c674ac5a6def39b59b4a942"
            ],
            "layout": "IPY_MODEL_cc46f6df982f45b7a43d8edf53ff7dca"
          }
        },
        "6631efbf158d4608ab900e1e4c1191ae": {
          "model_module": "@jupyter-widgets/controls",
          "model_name": "HTMLModel",
          "model_module_version": "1.5.0",
          "state": {
            "_dom_classes": [],
            "_model_module": "@jupyter-widgets/controls",
            "_model_module_version": "1.5.0",
            "_model_name": "HTMLModel",
            "_view_count": null,
            "_view_module": "@jupyter-widgets/controls",
            "_view_module_version": "1.5.0",
            "_view_name": "HTMLView",
            "description": "",
            "description_tooltip": null,
            "layout": "IPY_MODEL_16bcebb895104ac0a4bd2cb06d3e14bc",
            "placeholder": "​",
            "style": "IPY_MODEL_d93e98bd190f40299b6ea44b1c0eca5f",
            "value": "Batches: 100%"
          }
        },
        "cb89158812094e1ab6c7b4ed3510d25b": {
          "model_module": "@jupyter-widgets/controls",
          "model_name": "FloatProgressModel",
          "model_module_version": "1.5.0",
          "state": {
            "_dom_classes": [],
            "_model_module": "@jupyter-widgets/controls",
            "_model_module_version": "1.5.0",
            "_model_name": "FloatProgressModel",
            "_view_count": null,
            "_view_module": "@jupyter-widgets/controls",
            "_view_module_version": "1.5.0",
            "_view_name": "ProgressView",
            "bar_style": "success",
            "description": "",
            "description_tooltip": null,
            "layout": "IPY_MODEL_11ae338be6ce460781fa453b1d860fbb",
            "max": 845,
            "min": 0,
            "orientation": "horizontal",
            "style": "IPY_MODEL_e844db15c9f94df2ba5a964f6226b55a",
            "value": 845
          }
        },
        "65d3d9f51c674ac5a6def39b59b4a942": {
          "model_module": "@jupyter-widgets/controls",
          "model_name": "HTMLModel",
          "model_module_version": "1.5.0",
          "state": {
            "_dom_classes": [],
            "_model_module": "@jupyter-widgets/controls",
            "_model_module_version": "1.5.0",
            "_model_name": "HTMLModel",
            "_view_count": null,
            "_view_module": "@jupyter-widgets/controls",
            "_view_module_version": "1.5.0",
            "_view_name": "HTMLView",
            "description": "",
            "description_tooltip": null,
            "layout": "IPY_MODEL_b797fc8b6f7949f4a79a3908bc91efcd",
            "placeholder": "​",
            "style": "IPY_MODEL_a61d8a22d83d40439fe0ef3d1a4b86fc",
            "value": " 845/845 [13:17&lt;00:00,  3.45it/s]"
          }
        },
        "cc46f6df982f45b7a43d8edf53ff7dca": {
          "model_module": "@jupyter-widgets/base",
          "model_name": "LayoutModel",
          "model_module_version": "1.2.0",
          "state": {
            "_model_module": "@jupyter-widgets/base",
            "_model_module_version": "1.2.0",
            "_model_name": "LayoutModel",
            "_view_count": null,
            "_view_module": "@jupyter-widgets/base",
            "_view_module_version": "1.2.0",
            "_view_name": "LayoutView",
            "align_content": null,
            "align_items": null,
            "align_self": null,
            "border": null,
            "bottom": null,
            "display": null,
            "flex": null,
            "flex_flow": null,
            "grid_area": null,
            "grid_auto_columns": null,
            "grid_auto_flow": null,
            "grid_auto_rows": null,
            "grid_column": null,
            "grid_gap": null,
            "grid_row": null,
            "grid_template_areas": null,
            "grid_template_columns": null,
            "grid_template_rows": null,
            "height": null,
            "justify_content": null,
            "justify_items": null,
            "left": null,
            "margin": null,
            "max_height": null,
            "max_width": null,
            "min_height": null,
            "min_width": null,
            "object_fit": null,
            "object_position": null,
            "order": null,
            "overflow": null,
            "overflow_x": null,
            "overflow_y": null,
            "padding": null,
            "right": null,
            "top": null,
            "visibility": null,
            "width": null
          }
        },
        "16bcebb895104ac0a4bd2cb06d3e14bc": {
          "model_module": "@jupyter-widgets/base",
          "model_name": "LayoutModel",
          "model_module_version": "1.2.0",
          "state": {
            "_model_module": "@jupyter-widgets/base",
            "_model_module_version": "1.2.0",
            "_model_name": "LayoutModel",
            "_view_count": null,
            "_view_module": "@jupyter-widgets/base",
            "_view_module_version": "1.2.0",
            "_view_name": "LayoutView",
            "align_content": null,
            "align_items": null,
            "align_self": null,
            "border": null,
            "bottom": null,
            "display": null,
            "flex": null,
            "flex_flow": null,
            "grid_area": null,
            "grid_auto_columns": null,
            "grid_auto_flow": null,
            "grid_auto_rows": null,
            "grid_column": null,
            "grid_gap": null,
            "grid_row": null,
            "grid_template_areas": null,
            "grid_template_columns": null,
            "grid_template_rows": null,
            "height": null,
            "justify_content": null,
            "justify_items": null,
            "left": null,
            "margin": null,
            "max_height": null,
            "max_width": null,
            "min_height": null,
            "min_width": null,
            "object_fit": null,
            "object_position": null,
            "order": null,
            "overflow": null,
            "overflow_x": null,
            "overflow_y": null,
            "padding": null,
            "right": null,
            "top": null,
            "visibility": null,
            "width": null
          }
        },
        "d93e98bd190f40299b6ea44b1c0eca5f": {
          "model_module": "@jupyter-widgets/controls",
          "model_name": "DescriptionStyleModel",
          "model_module_version": "1.5.0",
          "state": {
            "_model_module": "@jupyter-widgets/controls",
            "_model_module_version": "1.5.0",
            "_model_name": "DescriptionStyleModel",
            "_view_count": null,
            "_view_module": "@jupyter-widgets/base",
            "_view_module_version": "1.2.0",
            "_view_name": "StyleView",
            "description_width": ""
          }
        },
        "11ae338be6ce460781fa453b1d860fbb": {
          "model_module": "@jupyter-widgets/base",
          "model_name": "LayoutModel",
          "model_module_version": "1.2.0",
          "state": {
            "_model_module": "@jupyter-widgets/base",
            "_model_module_version": "1.2.0",
            "_model_name": "LayoutModel",
            "_view_count": null,
            "_view_module": "@jupyter-widgets/base",
            "_view_module_version": "1.2.0",
            "_view_name": "LayoutView",
            "align_content": null,
            "align_items": null,
            "align_self": null,
            "border": null,
            "bottom": null,
            "display": null,
            "flex": null,
            "flex_flow": null,
            "grid_area": null,
            "grid_auto_columns": null,
            "grid_auto_flow": null,
            "grid_auto_rows": null,
            "grid_column": null,
            "grid_gap": null,
            "grid_row": null,
            "grid_template_areas": null,
            "grid_template_columns": null,
            "grid_template_rows": null,
            "height": null,
            "justify_content": null,
            "justify_items": null,
            "left": null,
            "margin": null,
            "max_height": null,
            "max_width": null,
            "min_height": null,
            "min_width": null,
            "object_fit": null,
            "object_position": null,
            "order": null,
            "overflow": null,
            "overflow_x": null,
            "overflow_y": null,
            "padding": null,
            "right": null,
            "top": null,
            "visibility": null,
            "width": null
          }
        },
        "e844db15c9f94df2ba5a964f6226b55a": {
          "model_module": "@jupyter-widgets/controls",
          "model_name": "ProgressStyleModel",
          "model_module_version": "1.5.0",
          "state": {
            "_model_module": "@jupyter-widgets/controls",
            "_model_module_version": "1.5.0",
            "_model_name": "ProgressStyleModel",
            "_view_count": null,
            "_view_module": "@jupyter-widgets/base",
            "_view_module_version": "1.2.0",
            "_view_name": "StyleView",
            "bar_color": null,
            "description_width": ""
          }
        },
        "b797fc8b6f7949f4a79a3908bc91efcd": {
          "model_module": "@jupyter-widgets/base",
          "model_name": "LayoutModel",
          "model_module_version": "1.2.0",
          "state": {
            "_model_module": "@jupyter-widgets/base",
            "_model_module_version": "1.2.0",
            "_model_name": "LayoutModel",
            "_view_count": null,
            "_view_module": "@jupyter-widgets/base",
            "_view_module_version": "1.2.0",
            "_view_name": "LayoutView",
            "align_content": null,
            "align_items": null,
            "align_self": null,
            "border": null,
            "bottom": null,
            "display": null,
            "flex": null,
            "flex_flow": null,
            "grid_area": null,
            "grid_auto_columns": null,
            "grid_auto_flow": null,
            "grid_auto_rows": null,
            "grid_column": null,
            "grid_gap": null,
            "grid_row": null,
            "grid_template_areas": null,
            "grid_template_columns": null,
            "grid_template_rows": null,
            "height": null,
            "justify_content": null,
            "justify_items": null,
            "left": null,
            "margin": null,
            "max_height": null,
            "max_width": null,
            "min_height": null,
            "min_width": null,
            "object_fit": null,
            "object_position": null,
            "order": null,
            "overflow": null,
            "overflow_x": null,
            "overflow_y": null,
            "padding": null,
            "right": null,
            "top": null,
            "visibility": null,
            "width": null
          }
        },
        "a61d8a22d83d40439fe0ef3d1a4b86fc": {
          "model_module": "@jupyter-widgets/controls",
          "model_name": "DescriptionStyleModel",
          "model_module_version": "1.5.0",
          "state": {
            "_model_module": "@jupyter-widgets/controls",
            "_model_module_version": "1.5.0",
            "_model_name": "DescriptionStyleModel",
            "_view_count": null,
            "_view_module": "@jupyter-widgets/base",
            "_view_module_version": "1.2.0",
            "_view_name": "StyleView",
            "description_width": ""
          }
        },
        "31a01da2b1754124b3df14855acd03ea": {
          "model_module": "@jupyter-widgets/controls",
          "model_name": "HBoxModel",
          "model_module_version": "1.5.0",
          "state": {
            "_dom_classes": [],
            "_model_module": "@jupyter-widgets/controls",
            "_model_module_version": "1.5.0",
            "_model_name": "HBoxModel",
            "_view_count": null,
            "_view_module": "@jupyter-widgets/controls",
            "_view_module_version": "1.5.0",
            "_view_name": "HBoxView",
            "box_style": "",
            "children": [
              "IPY_MODEL_e2be3dfe7ba841d985c7282d30381c2b",
              "IPY_MODEL_d3e5cc77a2af425691f02f9667df0bf1",
              "IPY_MODEL_508e249e3d8e4430abeec935700acb4e"
            ],
            "layout": "IPY_MODEL_45afb4109e8f4109a8e0e3db28b1f01d"
          }
        },
        "e2be3dfe7ba841d985c7282d30381c2b": {
          "model_module": "@jupyter-widgets/controls",
          "model_name": "HTMLModel",
          "model_module_version": "1.5.0",
          "state": {
            "_dom_classes": [],
            "_model_module": "@jupyter-widgets/controls",
            "_model_module_version": "1.5.0",
            "_model_name": "HTMLModel",
            "_view_count": null,
            "_view_module": "@jupyter-widgets/controls",
            "_view_module_version": "1.5.0",
            "_view_name": "HTMLView",
            "description": "",
            "description_tooltip": null,
            "layout": "IPY_MODEL_30354a60845541b8918ee6022bc9b7e5",
            "placeholder": "​",
            "style": "IPY_MODEL_c410d60b7e64447dbaae784e09c5b8d7",
            "value": "Batches: 100%"
          }
        },
        "d3e5cc77a2af425691f02f9667df0bf1": {
          "model_module": "@jupyter-widgets/controls",
          "model_name": "FloatProgressModel",
          "model_module_version": "1.5.0",
          "state": {
            "_dom_classes": [],
            "_model_module": "@jupyter-widgets/controls",
            "_model_module_version": "1.5.0",
            "_model_name": "FloatProgressModel",
            "_view_count": null,
            "_view_module": "@jupyter-widgets/controls",
            "_view_module_version": "1.5.0",
            "_view_name": "ProgressView",
            "bar_style": "success",
            "description": "",
            "description_tooltip": null,
            "layout": "IPY_MODEL_5d68906d7fb8465b904f655237b22bdb",
            "max": 845,
            "min": 0,
            "orientation": "horizontal",
            "style": "IPY_MODEL_d949e37efb4b46d18751789594b659c4",
            "value": 845
          }
        },
        "508e249e3d8e4430abeec935700acb4e": {
          "model_module": "@jupyter-widgets/controls",
          "model_name": "HTMLModel",
          "model_module_version": "1.5.0",
          "state": {
            "_dom_classes": [],
            "_model_module": "@jupyter-widgets/controls",
            "_model_module_version": "1.5.0",
            "_model_name": "HTMLModel",
            "_view_count": null,
            "_view_module": "@jupyter-widgets/controls",
            "_view_module_version": "1.5.0",
            "_view_name": "HTMLView",
            "description": "",
            "description_tooltip": null,
            "layout": "IPY_MODEL_a3a345e6293f4fe2a89ba53188af6fd8",
            "placeholder": "​",
            "style": "IPY_MODEL_750faa17583140e0b8f2ea425ed507dd",
            "value": " 845/845 [05:44&lt;00:00,  8.74it/s]"
          }
        },
        "45afb4109e8f4109a8e0e3db28b1f01d": {
          "model_module": "@jupyter-widgets/base",
          "model_name": "LayoutModel",
          "model_module_version": "1.2.0",
          "state": {
            "_model_module": "@jupyter-widgets/base",
            "_model_module_version": "1.2.0",
            "_model_name": "LayoutModel",
            "_view_count": null,
            "_view_module": "@jupyter-widgets/base",
            "_view_module_version": "1.2.0",
            "_view_name": "LayoutView",
            "align_content": null,
            "align_items": null,
            "align_self": null,
            "border": null,
            "bottom": null,
            "display": null,
            "flex": null,
            "flex_flow": null,
            "grid_area": null,
            "grid_auto_columns": null,
            "grid_auto_flow": null,
            "grid_auto_rows": null,
            "grid_column": null,
            "grid_gap": null,
            "grid_row": null,
            "grid_template_areas": null,
            "grid_template_columns": null,
            "grid_template_rows": null,
            "height": null,
            "justify_content": null,
            "justify_items": null,
            "left": null,
            "margin": null,
            "max_height": null,
            "max_width": null,
            "min_height": null,
            "min_width": null,
            "object_fit": null,
            "object_position": null,
            "order": null,
            "overflow": null,
            "overflow_x": null,
            "overflow_y": null,
            "padding": null,
            "right": null,
            "top": null,
            "visibility": null,
            "width": null
          }
        },
        "30354a60845541b8918ee6022bc9b7e5": {
          "model_module": "@jupyter-widgets/base",
          "model_name": "LayoutModel",
          "model_module_version": "1.2.0",
          "state": {
            "_model_module": "@jupyter-widgets/base",
            "_model_module_version": "1.2.0",
            "_model_name": "LayoutModel",
            "_view_count": null,
            "_view_module": "@jupyter-widgets/base",
            "_view_module_version": "1.2.0",
            "_view_name": "LayoutView",
            "align_content": null,
            "align_items": null,
            "align_self": null,
            "border": null,
            "bottom": null,
            "display": null,
            "flex": null,
            "flex_flow": null,
            "grid_area": null,
            "grid_auto_columns": null,
            "grid_auto_flow": null,
            "grid_auto_rows": null,
            "grid_column": null,
            "grid_gap": null,
            "grid_row": null,
            "grid_template_areas": null,
            "grid_template_columns": null,
            "grid_template_rows": null,
            "height": null,
            "justify_content": null,
            "justify_items": null,
            "left": null,
            "margin": null,
            "max_height": null,
            "max_width": null,
            "min_height": null,
            "min_width": null,
            "object_fit": null,
            "object_position": null,
            "order": null,
            "overflow": null,
            "overflow_x": null,
            "overflow_y": null,
            "padding": null,
            "right": null,
            "top": null,
            "visibility": null,
            "width": null
          }
        },
        "c410d60b7e64447dbaae784e09c5b8d7": {
          "model_module": "@jupyter-widgets/controls",
          "model_name": "DescriptionStyleModel",
          "model_module_version": "1.5.0",
          "state": {
            "_model_module": "@jupyter-widgets/controls",
            "_model_module_version": "1.5.0",
            "_model_name": "DescriptionStyleModel",
            "_view_count": null,
            "_view_module": "@jupyter-widgets/base",
            "_view_module_version": "1.2.0",
            "_view_name": "StyleView",
            "description_width": ""
          }
        },
        "5d68906d7fb8465b904f655237b22bdb": {
          "model_module": "@jupyter-widgets/base",
          "model_name": "LayoutModel",
          "model_module_version": "1.2.0",
          "state": {
            "_model_module": "@jupyter-widgets/base",
            "_model_module_version": "1.2.0",
            "_model_name": "LayoutModel",
            "_view_count": null,
            "_view_module": "@jupyter-widgets/base",
            "_view_module_version": "1.2.0",
            "_view_name": "LayoutView",
            "align_content": null,
            "align_items": null,
            "align_self": null,
            "border": null,
            "bottom": null,
            "display": null,
            "flex": null,
            "flex_flow": null,
            "grid_area": null,
            "grid_auto_columns": null,
            "grid_auto_flow": null,
            "grid_auto_rows": null,
            "grid_column": null,
            "grid_gap": null,
            "grid_row": null,
            "grid_template_areas": null,
            "grid_template_columns": null,
            "grid_template_rows": null,
            "height": null,
            "justify_content": null,
            "justify_items": null,
            "left": null,
            "margin": null,
            "max_height": null,
            "max_width": null,
            "min_height": null,
            "min_width": null,
            "object_fit": null,
            "object_position": null,
            "order": null,
            "overflow": null,
            "overflow_x": null,
            "overflow_y": null,
            "padding": null,
            "right": null,
            "top": null,
            "visibility": null,
            "width": null
          }
        },
        "d949e37efb4b46d18751789594b659c4": {
          "model_module": "@jupyter-widgets/controls",
          "model_name": "ProgressStyleModel",
          "model_module_version": "1.5.0",
          "state": {
            "_model_module": "@jupyter-widgets/controls",
            "_model_module_version": "1.5.0",
            "_model_name": "ProgressStyleModel",
            "_view_count": null,
            "_view_module": "@jupyter-widgets/base",
            "_view_module_version": "1.2.0",
            "_view_name": "StyleView",
            "bar_color": null,
            "description_width": ""
          }
        },
        "a3a345e6293f4fe2a89ba53188af6fd8": {
          "model_module": "@jupyter-widgets/base",
          "model_name": "LayoutModel",
          "model_module_version": "1.2.0",
          "state": {
            "_model_module": "@jupyter-widgets/base",
            "_model_module_version": "1.2.0",
            "_model_name": "LayoutModel",
            "_view_count": null,
            "_view_module": "@jupyter-widgets/base",
            "_view_module_version": "1.2.0",
            "_view_name": "LayoutView",
            "align_content": null,
            "align_items": null,
            "align_self": null,
            "border": null,
            "bottom": null,
            "display": null,
            "flex": null,
            "flex_flow": null,
            "grid_area": null,
            "grid_auto_columns": null,
            "grid_auto_flow": null,
            "grid_auto_rows": null,
            "grid_column": null,
            "grid_gap": null,
            "grid_row": null,
            "grid_template_areas": null,
            "grid_template_columns": null,
            "grid_template_rows": null,
            "height": null,
            "justify_content": null,
            "justify_items": null,
            "left": null,
            "margin": null,
            "max_height": null,
            "max_width": null,
            "min_height": null,
            "min_width": null,
            "object_fit": null,
            "object_position": null,
            "order": null,
            "overflow": null,
            "overflow_x": null,
            "overflow_y": null,
            "padding": null,
            "right": null,
            "top": null,
            "visibility": null,
            "width": null
          }
        },
        "750faa17583140e0b8f2ea425ed507dd": {
          "model_module": "@jupyter-widgets/controls",
          "model_name": "DescriptionStyleModel",
          "model_module_version": "1.5.0",
          "state": {
            "_model_module": "@jupyter-widgets/controls",
            "_model_module_version": "1.5.0",
            "_model_name": "DescriptionStyleModel",
            "_view_count": null,
            "_view_module": "@jupyter-widgets/base",
            "_view_module_version": "1.2.0",
            "_view_name": "StyleView",
            "description_width": ""
          }
        },
        "a4dcd3ac0e384f7e8b41ef74938ce5d2": {
          "model_module": "@jupyter-widgets/controls",
          "model_name": "HBoxModel",
          "model_module_version": "1.5.0",
          "state": {
            "_dom_classes": [],
            "_model_module": "@jupyter-widgets/controls",
            "_model_module_version": "1.5.0",
            "_model_name": "HBoxModel",
            "_view_count": null,
            "_view_module": "@jupyter-widgets/controls",
            "_view_module_version": "1.5.0",
            "_view_name": "HBoxView",
            "box_style": "",
            "children": [
              "IPY_MODEL_79237af4723d4accab40c1d588e5906a",
              "IPY_MODEL_a0eeb80ffeba4b188bb8c5bfe08f8126",
              "IPY_MODEL_7caf15704b504cc382c1e3a8e837d0ca"
            ],
            "layout": "IPY_MODEL_c49edcc40719479da85ea64716df5f9b"
          }
        },
        "79237af4723d4accab40c1d588e5906a": {
          "model_module": "@jupyter-widgets/controls",
          "model_name": "HTMLModel",
          "model_module_version": "1.5.0",
          "state": {
            "_dom_classes": [],
            "_model_module": "@jupyter-widgets/controls",
            "_model_module_version": "1.5.0",
            "_model_name": "HTMLModel",
            "_view_count": null,
            "_view_module": "@jupyter-widgets/controls",
            "_view_module_version": "1.5.0",
            "_view_name": "HTMLView",
            "description": "",
            "description_tooltip": null,
            "layout": "IPY_MODEL_3ea62f764e844a3186f3f628b6ca6206",
            "placeholder": "​",
            "style": "IPY_MODEL_5b69f8b91af24040906d9f2df62666a4",
            "value": "Batches: 100%"
          }
        },
        "a0eeb80ffeba4b188bb8c5bfe08f8126": {
          "model_module": "@jupyter-widgets/controls",
          "model_name": "FloatProgressModel",
          "model_module_version": "1.5.0",
          "state": {
            "_dom_classes": [],
            "_model_module": "@jupyter-widgets/controls",
            "_model_module_version": "1.5.0",
            "_model_name": "FloatProgressModel",
            "_view_count": null,
            "_view_module": "@jupyter-widgets/controls",
            "_view_module_version": "1.5.0",
            "_view_name": "ProgressView",
            "bar_style": "success",
            "description": "",
            "description_tooltip": null,
            "layout": "IPY_MODEL_a82dc67319c5485c8f127bed8ccdc958",
            "max": 845,
            "min": 0,
            "orientation": "horizontal",
            "style": "IPY_MODEL_c514e65445a747cda86eca206162b4e2",
            "value": 845
          }
        },
        "7caf15704b504cc382c1e3a8e837d0ca": {
          "model_module": "@jupyter-widgets/controls",
          "model_name": "HTMLModel",
          "model_module_version": "1.5.0",
          "state": {
            "_dom_classes": [],
            "_model_module": "@jupyter-widgets/controls",
            "_model_module_version": "1.5.0",
            "_model_name": "HTMLModel",
            "_view_count": null,
            "_view_module": "@jupyter-widgets/controls",
            "_view_module_version": "1.5.0",
            "_view_name": "HTMLView",
            "description": "",
            "description_tooltip": null,
            "layout": "IPY_MODEL_cad634b797e142998ef7afdd96610c94",
            "placeholder": "​",
            "style": "IPY_MODEL_189b8554f7c046a8b8a3d561666d276a",
            "value": " 845/845 [04:06&lt;00:00,  8.35it/s]"
          }
        },
        "c49edcc40719479da85ea64716df5f9b": {
          "model_module": "@jupyter-widgets/base",
          "model_name": "LayoutModel",
          "model_module_version": "1.2.0",
          "state": {
            "_model_module": "@jupyter-widgets/base",
            "_model_module_version": "1.2.0",
            "_model_name": "LayoutModel",
            "_view_count": null,
            "_view_module": "@jupyter-widgets/base",
            "_view_module_version": "1.2.0",
            "_view_name": "LayoutView",
            "align_content": null,
            "align_items": null,
            "align_self": null,
            "border": null,
            "bottom": null,
            "display": null,
            "flex": null,
            "flex_flow": null,
            "grid_area": null,
            "grid_auto_columns": null,
            "grid_auto_flow": null,
            "grid_auto_rows": null,
            "grid_column": null,
            "grid_gap": null,
            "grid_row": null,
            "grid_template_areas": null,
            "grid_template_columns": null,
            "grid_template_rows": null,
            "height": null,
            "justify_content": null,
            "justify_items": null,
            "left": null,
            "margin": null,
            "max_height": null,
            "max_width": null,
            "min_height": null,
            "min_width": null,
            "object_fit": null,
            "object_position": null,
            "order": null,
            "overflow": null,
            "overflow_x": null,
            "overflow_y": null,
            "padding": null,
            "right": null,
            "top": null,
            "visibility": null,
            "width": null
          }
        },
        "3ea62f764e844a3186f3f628b6ca6206": {
          "model_module": "@jupyter-widgets/base",
          "model_name": "LayoutModel",
          "model_module_version": "1.2.0",
          "state": {
            "_model_module": "@jupyter-widgets/base",
            "_model_module_version": "1.2.0",
            "_model_name": "LayoutModel",
            "_view_count": null,
            "_view_module": "@jupyter-widgets/base",
            "_view_module_version": "1.2.0",
            "_view_name": "LayoutView",
            "align_content": null,
            "align_items": null,
            "align_self": null,
            "border": null,
            "bottom": null,
            "display": null,
            "flex": null,
            "flex_flow": null,
            "grid_area": null,
            "grid_auto_columns": null,
            "grid_auto_flow": null,
            "grid_auto_rows": null,
            "grid_column": null,
            "grid_gap": null,
            "grid_row": null,
            "grid_template_areas": null,
            "grid_template_columns": null,
            "grid_template_rows": null,
            "height": null,
            "justify_content": null,
            "justify_items": null,
            "left": null,
            "margin": null,
            "max_height": null,
            "max_width": null,
            "min_height": null,
            "min_width": null,
            "object_fit": null,
            "object_position": null,
            "order": null,
            "overflow": null,
            "overflow_x": null,
            "overflow_y": null,
            "padding": null,
            "right": null,
            "top": null,
            "visibility": null,
            "width": null
          }
        },
        "5b69f8b91af24040906d9f2df62666a4": {
          "model_module": "@jupyter-widgets/controls",
          "model_name": "DescriptionStyleModel",
          "model_module_version": "1.5.0",
          "state": {
            "_model_module": "@jupyter-widgets/controls",
            "_model_module_version": "1.5.0",
            "_model_name": "DescriptionStyleModel",
            "_view_count": null,
            "_view_module": "@jupyter-widgets/base",
            "_view_module_version": "1.2.0",
            "_view_name": "StyleView",
            "description_width": ""
          }
        },
        "a82dc67319c5485c8f127bed8ccdc958": {
          "model_module": "@jupyter-widgets/base",
          "model_name": "LayoutModel",
          "model_module_version": "1.2.0",
          "state": {
            "_model_module": "@jupyter-widgets/base",
            "_model_module_version": "1.2.0",
            "_model_name": "LayoutModel",
            "_view_count": null,
            "_view_module": "@jupyter-widgets/base",
            "_view_module_version": "1.2.0",
            "_view_name": "LayoutView",
            "align_content": null,
            "align_items": null,
            "align_self": null,
            "border": null,
            "bottom": null,
            "display": null,
            "flex": null,
            "flex_flow": null,
            "grid_area": null,
            "grid_auto_columns": null,
            "grid_auto_flow": null,
            "grid_auto_rows": null,
            "grid_column": null,
            "grid_gap": null,
            "grid_row": null,
            "grid_template_areas": null,
            "grid_template_columns": null,
            "grid_template_rows": null,
            "height": null,
            "justify_content": null,
            "justify_items": null,
            "left": null,
            "margin": null,
            "max_height": null,
            "max_width": null,
            "min_height": null,
            "min_width": null,
            "object_fit": null,
            "object_position": null,
            "order": null,
            "overflow": null,
            "overflow_x": null,
            "overflow_y": null,
            "padding": null,
            "right": null,
            "top": null,
            "visibility": null,
            "width": null
          }
        },
        "c514e65445a747cda86eca206162b4e2": {
          "model_module": "@jupyter-widgets/controls",
          "model_name": "ProgressStyleModel",
          "model_module_version": "1.5.0",
          "state": {
            "_model_module": "@jupyter-widgets/controls",
            "_model_module_version": "1.5.0",
            "_model_name": "ProgressStyleModel",
            "_view_count": null,
            "_view_module": "@jupyter-widgets/base",
            "_view_module_version": "1.2.0",
            "_view_name": "StyleView",
            "bar_color": null,
            "description_width": ""
          }
        },
        "cad634b797e142998ef7afdd96610c94": {
          "model_module": "@jupyter-widgets/base",
          "model_name": "LayoutModel",
          "model_module_version": "1.2.0",
          "state": {
            "_model_module": "@jupyter-widgets/base",
            "_model_module_version": "1.2.0",
            "_model_name": "LayoutModel",
            "_view_count": null,
            "_view_module": "@jupyter-widgets/base",
            "_view_module_version": "1.2.0",
            "_view_name": "LayoutView",
            "align_content": null,
            "align_items": null,
            "align_self": null,
            "border": null,
            "bottom": null,
            "display": null,
            "flex": null,
            "flex_flow": null,
            "grid_area": null,
            "grid_auto_columns": null,
            "grid_auto_flow": null,
            "grid_auto_rows": null,
            "grid_column": null,
            "grid_gap": null,
            "grid_row": null,
            "grid_template_areas": null,
            "grid_template_columns": null,
            "grid_template_rows": null,
            "height": null,
            "justify_content": null,
            "justify_items": null,
            "left": null,
            "margin": null,
            "max_height": null,
            "max_width": null,
            "min_height": null,
            "min_width": null,
            "object_fit": null,
            "object_position": null,
            "order": null,
            "overflow": null,
            "overflow_x": null,
            "overflow_y": null,
            "padding": null,
            "right": null,
            "top": null,
            "visibility": null,
            "width": null
          }
        },
        "189b8554f7c046a8b8a3d561666d276a": {
          "model_module": "@jupyter-widgets/controls",
          "model_name": "DescriptionStyleModel",
          "model_module_version": "1.5.0",
          "state": {
            "_model_module": "@jupyter-widgets/controls",
            "_model_module_version": "1.5.0",
            "_model_name": "DescriptionStyleModel",
            "_view_count": null,
            "_view_module": "@jupyter-widgets/base",
            "_view_module_version": "1.2.0",
            "_view_name": "StyleView",
            "description_width": ""
          }
        },
        "10c2f2e9a2634ecf964dd26acb23d79a": {
          "model_module": "@jupyter-widgets/controls",
          "model_name": "HBoxModel",
          "model_module_version": "1.5.0",
          "state": {
            "_dom_classes": [],
            "_model_module": "@jupyter-widgets/controls",
            "_model_module_version": "1.5.0",
            "_model_name": "HBoxModel",
            "_view_count": null,
            "_view_module": "@jupyter-widgets/controls",
            "_view_module_version": "1.5.0",
            "_view_name": "HBoxView",
            "box_style": "",
            "children": [
              "IPY_MODEL_c65ee581f32340d29649ea7cfd8df1bc",
              "IPY_MODEL_b5c6e9e30326424ea85ae4cfca20791b",
              "IPY_MODEL_72f4ff0f5ba749b5be38cb8d3fb9f43a"
            ],
            "layout": "IPY_MODEL_0cb82e62d5a54be1b8bfc9bf2498a5e7"
          }
        },
        "c65ee581f32340d29649ea7cfd8df1bc": {
          "model_module": "@jupyter-widgets/controls",
          "model_name": "HTMLModel",
          "model_module_version": "1.5.0",
          "state": {
            "_dom_classes": [],
            "_model_module": "@jupyter-widgets/controls",
            "_model_module_version": "1.5.0",
            "_model_name": "HTMLModel",
            "_view_count": null,
            "_view_module": "@jupyter-widgets/controls",
            "_view_module_version": "1.5.0",
            "_view_name": "HTMLView",
            "description": "",
            "description_tooltip": null,
            "layout": "IPY_MODEL_924d05b4cb6c45f7931838479f836565",
            "placeholder": "​",
            "style": "IPY_MODEL_51295140f8ba45ee9eae2017ecb17c5b",
            "value": "Batches: 100%"
          }
        },
        "b5c6e9e30326424ea85ae4cfca20791b": {
          "model_module": "@jupyter-widgets/controls",
          "model_name": "FloatProgressModel",
          "model_module_version": "1.5.0",
          "state": {
            "_dom_classes": [],
            "_model_module": "@jupyter-widgets/controls",
            "_model_module_version": "1.5.0",
            "_model_name": "FloatProgressModel",
            "_view_count": null,
            "_view_module": "@jupyter-widgets/controls",
            "_view_module_version": "1.5.0",
            "_view_name": "ProgressView",
            "bar_style": "success",
            "description": "",
            "description_tooltip": null,
            "layout": "IPY_MODEL_6c75c687f33b4750b982a2ff68a01edc",
            "max": 441,
            "min": 0,
            "orientation": "horizontal",
            "style": "IPY_MODEL_4a524b67e0d34c8a928edcd18897cde0",
            "value": 441
          }
        },
        "72f4ff0f5ba749b5be38cb8d3fb9f43a": {
          "model_module": "@jupyter-widgets/controls",
          "model_name": "HTMLModel",
          "model_module_version": "1.5.0",
          "state": {
            "_dom_classes": [],
            "_model_module": "@jupyter-widgets/controls",
            "_model_module_version": "1.5.0",
            "_model_name": "HTMLModel",
            "_view_count": null,
            "_view_module": "@jupyter-widgets/controls",
            "_view_module_version": "1.5.0",
            "_view_name": "HTMLView",
            "description": "",
            "description_tooltip": null,
            "layout": "IPY_MODEL_30e6c7a28a744449bfe91fe466ed87c7",
            "placeholder": "​",
            "style": "IPY_MODEL_01c484733e3d4212adf9fca837447c0f",
            "value": " 441/441 [26:20&lt;00:00,  2.12s/it]"
          }
        },
        "0cb82e62d5a54be1b8bfc9bf2498a5e7": {
          "model_module": "@jupyter-widgets/base",
          "model_name": "LayoutModel",
          "model_module_version": "1.2.0",
          "state": {
            "_model_module": "@jupyter-widgets/base",
            "_model_module_version": "1.2.0",
            "_model_name": "LayoutModel",
            "_view_count": null,
            "_view_module": "@jupyter-widgets/base",
            "_view_module_version": "1.2.0",
            "_view_name": "LayoutView",
            "align_content": null,
            "align_items": null,
            "align_self": null,
            "border": null,
            "bottom": null,
            "display": null,
            "flex": null,
            "flex_flow": null,
            "grid_area": null,
            "grid_auto_columns": null,
            "grid_auto_flow": null,
            "grid_auto_rows": null,
            "grid_column": null,
            "grid_gap": null,
            "grid_row": null,
            "grid_template_areas": null,
            "grid_template_columns": null,
            "grid_template_rows": null,
            "height": null,
            "justify_content": null,
            "justify_items": null,
            "left": null,
            "margin": null,
            "max_height": null,
            "max_width": null,
            "min_height": null,
            "min_width": null,
            "object_fit": null,
            "object_position": null,
            "order": null,
            "overflow": null,
            "overflow_x": null,
            "overflow_y": null,
            "padding": null,
            "right": null,
            "top": null,
            "visibility": null,
            "width": null
          }
        },
        "924d05b4cb6c45f7931838479f836565": {
          "model_module": "@jupyter-widgets/base",
          "model_name": "LayoutModel",
          "model_module_version": "1.2.0",
          "state": {
            "_model_module": "@jupyter-widgets/base",
            "_model_module_version": "1.2.0",
            "_model_name": "LayoutModel",
            "_view_count": null,
            "_view_module": "@jupyter-widgets/base",
            "_view_module_version": "1.2.0",
            "_view_name": "LayoutView",
            "align_content": null,
            "align_items": null,
            "align_self": null,
            "border": null,
            "bottom": null,
            "display": null,
            "flex": null,
            "flex_flow": null,
            "grid_area": null,
            "grid_auto_columns": null,
            "grid_auto_flow": null,
            "grid_auto_rows": null,
            "grid_column": null,
            "grid_gap": null,
            "grid_row": null,
            "grid_template_areas": null,
            "grid_template_columns": null,
            "grid_template_rows": null,
            "height": null,
            "justify_content": null,
            "justify_items": null,
            "left": null,
            "margin": null,
            "max_height": null,
            "max_width": null,
            "min_height": null,
            "min_width": null,
            "object_fit": null,
            "object_position": null,
            "order": null,
            "overflow": null,
            "overflow_x": null,
            "overflow_y": null,
            "padding": null,
            "right": null,
            "top": null,
            "visibility": null,
            "width": null
          }
        },
        "51295140f8ba45ee9eae2017ecb17c5b": {
          "model_module": "@jupyter-widgets/controls",
          "model_name": "DescriptionStyleModel",
          "model_module_version": "1.5.0",
          "state": {
            "_model_module": "@jupyter-widgets/controls",
            "_model_module_version": "1.5.0",
            "_model_name": "DescriptionStyleModel",
            "_view_count": null,
            "_view_module": "@jupyter-widgets/base",
            "_view_module_version": "1.2.0",
            "_view_name": "StyleView",
            "description_width": ""
          }
        },
        "6c75c687f33b4750b982a2ff68a01edc": {
          "model_module": "@jupyter-widgets/base",
          "model_name": "LayoutModel",
          "model_module_version": "1.2.0",
          "state": {
            "_model_module": "@jupyter-widgets/base",
            "_model_module_version": "1.2.0",
            "_model_name": "LayoutModel",
            "_view_count": null,
            "_view_module": "@jupyter-widgets/base",
            "_view_module_version": "1.2.0",
            "_view_name": "LayoutView",
            "align_content": null,
            "align_items": null,
            "align_self": null,
            "border": null,
            "bottom": null,
            "display": null,
            "flex": null,
            "flex_flow": null,
            "grid_area": null,
            "grid_auto_columns": null,
            "grid_auto_flow": null,
            "grid_auto_rows": null,
            "grid_column": null,
            "grid_gap": null,
            "grid_row": null,
            "grid_template_areas": null,
            "grid_template_columns": null,
            "grid_template_rows": null,
            "height": null,
            "justify_content": null,
            "justify_items": null,
            "left": null,
            "margin": null,
            "max_height": null,
            "max_width": null,
            "min_height": null,
            "min_width": null,
            "object_fit": null,
            "object_position": null,
            "order": null,
            "overflow": null,
            "overflow_x": null,
            "overflow_y": null,
            "padding": null,
            "right": null,
            "top": null,
            "visibility": null,
            "width": null
          }
        },
        "4a524b67e0d34c8a928edcd18897cde0": {
          "model_module": "@jupyter-widgets/controls",
          "model_name": "ProgressStyleModel",
          "model_module_version": "1.5.0",
          "state": {
            "_model_module": "@jupyter-widgets/controls",
            "_model_module_version": "1.5.0",
            "_model_name": "ProgressStyleModel",
            "_view_count": null,
            "_view_module": "@jupyter-widgets/base",
            "_view_module_version": "1.2.0",
            "_view_name": "StyleView",
            "bar_color": null,
            "description_width": ""
          }
        },
        "30e6c7a28a744449bfe91fe466ed87c7": {
          "model_module": "@jupyter-widgets/base",
          "model_name": "LayoutModel",
          "model_module_version": "1.2.0",
          "state": {
            "_model_module": "@jupyter-widgets/base",
            "_model_module_version": "1.2.0",
            "_model_name": "LayoutModel",
            "_view_count": null,
            "_view_module": "@jupyter-widgets/base",
            "_view_module_version": "1.2.0",
            "_view_name": "LayoutView",
            "align_content": null,
            "align_items": null,
            "align_self": null,
            "border": null,
            "bottom": null,
            "display": null,
            "flex": null,
            "flex_flow": null,
            "grid_area": null,
            "grid_auto_columns": null,
            "grid_auto_flow": null,
            "grid_auto_rows": null,
            "grid_column": null,
            "grid_gap": null,
            "grid_row": null,
            "grid_template_areas": null,
            "grid_template_columns": null,
            "grid_template_rows": null,
            "height": null,
            "justify_content": null,
            "justify_items": null,
            "left": null,
            "margin": null,
            "max_height": null,
            "max_width": null,
            "min_height": null,
            "min_width": null,
            "object_fit": null,
            "object_position": null,
            "order": null,
            "overflow": null,
            "overflow_x": null,
            "overflow_y": null,
            "padding": null,
            "right": null,
            "top": null,
            "visibility": null,
            "width": null
          }
        },
        "01c484733e3d4212adf9fca837447c0f": {
          "model_module": "@jupyter-widgets/controls",
          "model_name": "DescriptionStyleModel",
          "model_module_version": "1.5.0",
          "state": {
            "_model_module": "@jupyter-widgets/controls",
            "_model_module_version": "1.5.0",
            "_model_name": "DescriptionStyleModel",
            "_view_count": null,
            "_view_module": "@jupyter-widgets/base",
            "_view_module_version": "1.2.0",
            "_view_name": "StyleView",
            "description_width": ""
          }
        },
        "1de9c05416fd4ccd852cadd7918862f8": {
          "model_module": "@jupyter-widgets/controls",
          "model_name": "HBoxModel",
          "model_module_version": "1.5.0",
          "state": {
            "_dom_classes": [],
            "_model_module": "@jupyter-widgets/controls",
            "_model_module_version": "1.5.0",
            "_model_name": "HBoxModel",
            "_view_count": null,
            "_view_module": "@jupyter-widgets/controls",
            "_view_module_version": "1.5.0",
            "_view_name": "HBoxView",
            "box_style": "",
            "children": [
              "IPY_MODEL_26bf08052fad4d9b8cfa1a0e031b6afa",
              "IPY_MODEL_4ccd83bf13d840578355252804aadd91",
              "IPY_MODEL_65e0062c9a4a4753b8211385a010e722"
            ],
            "layout": "IPY_MODEL_480b8ddddc8e41bc8dd6d39f3f353d40"
          }
        },
        "26bf08052fad4d9b8cfa1a0e031b6afa": {
          "model_module": "@jupyter-widgets/controls",
          "model_name": "HTMLModel",
          "model_module_version": "1.5.0",
          "state": {
            "_dom_classes": [],
            "_model_module": "@jupyter-widgets/controls",
            "_model_module_version": "1.5.0",
            "_model_name": "HTMLModel",
            "_view_count": null,
            "_view_module": "@jupyter-widgets/controls",
            "_view_module_version": "1.5.0",
            "_view_name": "HTMLView",
            "description": "",
            "description_tooltip": null,
            "layout": "IPY_MODEL_eccf3842628e4bfbbb840ad9a97f62a1",
            "placeholder": "​",
            "style": "IPY_MODEL_da578a7f8031491f911baee8d63f2154",
            "value": "Batches: 100%"
          }
        },
        "4ccd83bf13d840578355252804aadd91": {
          "model_module": "@jupyter-widgets/controls",
          "model_name": "FloatProgressModel",
          "model_module_version": "1.5.0",
          "state": {
            "_dom_classes": [],
            "_model_module": "@jupyter-widgets/controls",
            "_model_module_version": "1.5.0",
            "_model_name": "FloatProgressModel",
            "_view_count": null,
            "_view_module": "@jupyter-widgets/controls",
            "_view_module_version": "1.5.0",
            "_view_name": "ProgressView",
            "bar_style": "success",
            "description": "",
            "description_tooltip": null,
            "layout": "IPY_MODEL_4a79f82c2f6c48458a99d76f5ccab52e",
            "max": 441,
            "min": 0,
            "orientation": "horizontal",
            "style": "IPY_MODEL_72a741d994ff4158ba4b2a4fac2828d0",
            "value": 441
          }
        },
        "65e0062c9a4a4753b8211385a010e722": {
          "model_module": "@jupyter-widgets/controls",
          "model_name": "HTMLModel",
          "model_module_version": "1.5.0",
          "state": {
            "_dom_classes": [],
            "_model_module": "@jupyter-widgets/controls",
            "_model_module_version": "1.5.0",
            "_model_name": "HTMLModel",
            "_view_count": null,
            "_view_module": "@jupyter-widgets/controls",
            "_view_module_version": "1.5.0",
            "_view_name": "HTMLView",
            "description": "",
            "description_tooltip": null,
            "layout": "IPY_MODEL_bc49ce46f4de4e41b49225249b97e77c",
            "placeholder": "​",
            "style": "IPY_MODEL_da112becbde14380915f0a7033b7f610",
            "value": " 441/441 [06:58&lt;00:00,  1.67it/s]"
          }
        },
        "480b8ddddc8e41bc8dd6d39f3f353d40": {
          "model_module": "@jupyter-widgets/base",
          "model_name": "LayoutModel",
          "model_module_version": "1.2.0",
          "state": {
            "_model_module": "@jupyter-widgets/base",
            "_model_module_version": "1.2.0",
            "_model_name": "LayoutModel",
            "_view_count": null,
            "_view_module": "@jupyter-widgets/base",
            "_view_module_version": "1.2.0",
            "_view_name": "LayoutView",
            "align_content": null,
            "align_items": null,
            "align_self": null,
            "border": null,
            "bottom": null,
            "display": null,
            "flex": null,
            "flex_flow": null,
            "grid_area": null,
            "grid_auto_columns": null,
            "grid_auto_flow": null,
            "grid_auto_rows": null,
            "grid_column": null,
            "grid_gap": null,
            "grid_row": null,
            "grid_template_areas": null,
            "grid_template_columns": null,
            "grid_template_rows": null,
            "height": null,
            "justify_content": null,
            "justify_items": null,
            "left": null,
            "margin": null,
            "max_height": null,
            "max_width": null,
            "min_height": null,
            "min_width": null,
            "object_fit": null,
            "object_position": null,
            "order": null,
            "overflow": null,
            "overflow_x": null,
            "overflow_y": null,
            "padding": null,
            "right": null,
            "top": null,
            "visibility": null,
            "width": null
          }
        },
        "eccf3842628e4bfbbb840ad9a97f62a1": {
          "model_module": "@jupyter-widgets/base",
          "model_name": "LayoutModel",
          "model_module_version": "1.2.0",
          "state": {
            "_model_module": "@jupyter-widgets/base",
            "_model_module_version": "1.2.0",
            "_model_name": "LayoutModel",
            "_view_count": null,
            "_view_module": "@jupyter-widgets/base",
            "_view_module_version": "1.2.0",
            "_view_name": "LayoutView",
            "align_content": null,
            "align_items": null,
            "align_self": null,
            "border": null,
            "bottom": null,
            "display": null,
            "flex": null,
            "flex_flow": null,
            "grid_area": null,
            "grid_auto_columns": null,
            "grid_auto_flow": null,
            "grid_auto_rows": null,
            "grid_column": null,
            "grid_gap": null,
            "grid_row": null,
            "grid_template_areas": null,
            "grid_template_columns": null,
            "grid_template_rows": null,
            "height": null,
            "justify_content": null,
            "justify_items": null,
            "left": null,
            "margin": null,
            "max_height": null,
            "max_width": null,
            "min_height": null,
            "min_width": null,
            "object_fit": null,
            "object_position": null,
            "order": null,
            "overflow": null,
            "overflow_x": null,
            "overflow_y": null,
            "padding": null,
            "right": null,
            "top": null,
            "visibility": null,
            "width": null
          }
        },
        "da578a7f8031491f911baee8d63f2154": {
          "model_module": "@jupyter-widgets/controls",
          "model_name": "DescriptionStyleModel",
          "model_module_version": "1.5.0",
          "state": {
            "_model_module": "@jupyter-widgets/controls",
            "_model_module_version": "1.5.0",
            "_model_name": "DescriptionStyleModel",
            "_view_count": null,
            "_view_module": "@jupyter-widgets/base",
            "_view_module_version": "1.2.0",
            "_view_name": "StyleView",
            "description_width": ""
          }
        },
        "4a79f82c2f6c48458a99d76f5ccab52e": {
          "model_module": "@jupyter-widgets/base",
          "model_name": "LayoutModel",
          "model_module_version": "1.2.0",
          "state": {
            "_model_module": "@jupyter-widgets/base",
            "_model_module_version": "1.2.0",
            "_model_name": "LayoutModel",
            "_view_count": null,
            "_view_module": "@jupyter-widgets/base",
            "_view_module_version": "1.2.0",
            "_view_name": "LayoutView",
            "align_content": null,
            "align_items": null,
            "align_self": null,
            "border": null,
            "bottom": null,
            "display": null,
            "flex": null,
            "flex_flow": null,
            "grid_area": null,
            "grid_auto_columns": null,
            "grid_auto_flow": null,
            "grid_auto_rows": null,
            "grid_column": null,
            "grid_gap": null,
            "grid_row": null,
            "grid_template_areas": null,
            "grid_template_columns": null,
            "grid_template_rows": null,
            "height": null,
            "justify_content": null,
            "justify_items": null,
            "left": null,
            "margin": null,
            "max_height": null,
            "max_width": null,
            "min_height": null,
            "min_width": null,
            "object_fit": null,
            "object_position": null,
            "order": null,
            "overflow": null,
            "overflow_x": null,
            "overflow_y": null,
            "padding": null,
            "right": null,
            "top": null,
            "visibility": null,
            "width": null
          }
        },
        "72a741d994ff4158ba4b2a4fac2828d0": {
          "model_module": "@jupyter-widgets/controls",
          "model_name": "ProgressStyleModel",
          "model_module_version": "1.5.0",
          "state": {
            "_model_module": "@jupyter-widgets/controls",
            "_model_module_version": "1.5.0",
            "_model_name": "ProgressStyleModel",
            "_view_count": null,
            "_view_module": "@jupyter-widgets/base",
            "_view_module_version": "1.2.0",
            "_view_name": "StyleView",
            "bar_color": null,
            "description_width": ""
          }
        },
        "bc49ce46f4de4e41b49225249b97e77c": {
          "model_module": "@jupyter-widgets/base",
          "model_name": "LayoutModel",
          "model_module_version": "1.2.0",
          "state": {
            "_model_module": "@jupyter-widgets/base",
            "_model_module_version": "1.2.0",
            "_model_name": "LayoutModel",
            "_view_count": null,
            "_view_module": "@jupyter-widgets/base",
            "_view_module_version": "1.2.0",
            "_view_name": "LayoutView",
            "align_content": null,
            "align_items": null,
            "align_self": null,
            "border": null,
            "bottom": null,
            "display": null,
            "flex": null,
            "flex_flow": null,
            "grid_area": null,
            "grid_auto_columns": null,
            "grid_auto_flow": null,
            "grid_auto_rows": null,
            "grid_column": null,
            "grid_gap": null,
            "grid_row": null,
            "grid_template_areas": null,
            "grid_template_columns": null,
            "grid_template_rows": null,
            "height": null,
            "justify_content": null,
            "justify_items": null,
            "left": null,
            "margin": null,
            "max_height": null,
            "max_width": null,
            "min_height": null,
            "min_width": null,
            "object_fit": null,
            "object_position": null,
            "order": null,
            "overflow": null,
            "overflow_x": null,
            "overflow_y": null,
            "padding": null,
            "right": null,
            "top": null,
            "visibility": null,
            "width": null
          }
        },
        "da112becbde14380915f0a7033b7f610": {
          "model_module": "@jupyter-widgets/controls",
          "model_name": "DescriptionStyleModel",
          "model_module_version": "1.5.0",
          "state": {
            "_model_module": "@jupyter-widgets/controls",
            "_model_module_version": "1.5.0",
            "_model_name": "DescriptionStyleModel",
            "_view_count": null,
            "_view_module": "@jupyter-widgets/base",
            "_view_module_version": "1.2.0",
            "_view_name": "StyleView",
            "description_width": ""
          }
        },
        "7f0fe90f066c40618f26fef42abb1fdb": {
          "model_module": "@jupyter-widgets/controls",
          "model_name": "HBoxModel",
          "model_module_version": "1.5.0",
          "state": {
            "_dom_classes": [],
            "_model_module": "@jupyter-widgets/controls",
            "_model_module_version": "1.5.0",
            "_model_name": "HBoxModel",
            "_view_count": null,
            "_view_module": "@jupyter-widgets/controls",
            "_view_module_version": "1.5.0",
            "_view_name": "HBoxView",
            "box_style": "",
            "children": [
              "IPY_MODEL_0dac1a30d794493c9285709661604b41",
              "IPY_MODEL_aa1351d69b7c408daf3c3fdb8e1c98d0",
              "IPY_MODEL_643f578ae7104d4ba4671f1470ac1c98"
            ],
            "layout": "IPY_MODEL_1fbe8e5f892c433f842a1f77e9f7d128"
          }
        },
        "0dac1a30d794493c9285709661604b41": {
          "model_module": "@jupyter-widgets/controls",
          "model_name": "HTMLModel",
          "model_module_version": "1.5.0",
          "state": {
            "_dom_classes": [],
            "_model_module": "@jupyter-widgets/controls",
            "_model_module_version": "1.5.0",
            "_model_name": "HTMLModel",
            "_view_count": null,
            "_view_module": "@jupyter-widgets/controls",
            "_view_module_version": "1.5.0",
            "_view_name": "HTMLView",
            "description": "",
            "description_tooltip": null,
            "layout": "IPY_MODEL_94ede52a4cb74c00898adddc2047fb83",
            "placeholder": "​",
            "style": "IPY_MODEL_951f918f07ed4c84a29c0f18978581de",
            "value": "Batches: 100%"
          }
        },
        "aa1351d69b7c408daf3c3fdb8e1c98d0": {
          "model_module": "@jupyter-widgets/controls",
          "model_name": "FloatProgressModel",
          "model_module_version": "1.5.0",
          "state": {
            "_dom_classes": [],
            "_model_module": "@jupyter-widgets/controls",
            "_model_module_version": "1.5.0",
            "_model_name": "FloatProgressModel",
            "_view_count": null,
            "_view_module": "@jupyter-widgets/controls",
            "_view_module_version": "1.5.0",
            "_view_name": "ProgressView",
            "bar_style": "success",
            "description": "",
            "description_tooltip": null,
            "layout": "IPY_MODEL_cec9d1b7a933450290a181b25ed11512",
            "max": 441,
            "min": 0,
            "orientation": "horizontal",
            "style": "IPY_MODEL_0f8b91530ed2496c8ccf208286918f02",
            "value": 441
          }
        },
        "643f578ae7104d4ba4671f1470ac1c98": {
          "model_module": "@jupyter-widgets/controls",
          "model_name": "HTMLModel",
          "model_module_version": "1.5.0",
          "state": {
            "_dom_classes": [],
            "_model_module": "@jupyter-widgets/controls",
            "_model_module_version": "1.5.0",
            "_model_name": "HTMLModel",
            "_view_count": null,
            "_view_module": "@jupyter-widgets/controls",
            "_view_module_version": "1.5.0",
            "_view_name": "HTMLView",
            "description": "",
            "description_tooltip": null,
            "layout": "IPY_MODEL_b588b32ffd74478db25632eacab45eae",
            "placeholder": "​",
            "style": "IPY_MODEL_5510e5a8bfc84237bfabbfa6e519e22c",
            "value": " 441/441 [05:28&lt;00:00,  2.61it/s]"
          }
        },
        "1fbe8e5f892c433f842a1f77e9f7d128": {
          "model_module": "@jupyter-widgets/base",
          "model_name": "LayoutModel",
          "model_module_version": "1.2.0",
          "state": {
            "_model_module": "@jupyter-widgets/base",
            "_model_module_version": "1.2.0",
            "_model_name": "LayoutModel",
            "_view_count": null,
            "_view_module": "@jupyter-widgets/base",
            "_view_module_version": "1.2.0",
            "_view_name": "LayoutView",
            "align_content": null,
            "align_items": null,
            "align_self": null,
            "border": null,
            "bottom": null,
            "display": null,
            "flex": null,
            "flex_flow": null,
            "grid_area": null,
            "grid_auto_columns": null,
            "grid_auto_flow": null,
            "grid_auto_rows": null,
            "grid_column": null,
            "grid_gap": null,
            "grid_row": null,
            "grid_template_areas": null,
            "grid_template_columns": null,
            "grid_template_rows": null,
            "height": null,
            "justify_content": null,
            "justify_items": null,
            "left": null,
            "margin": null,
            "max_height": null,
            "max_width": null,
            "min_height": null,
            "min_width": null,
            "object_fit": null,
            "object_position": null,
            "order": null,
            "overflow": null,
            "overflow_x": null,
            "overflow_y": null,
            "padding": null,
            "right": null,
            "top": null,
            "visibility": null,
            "width": null
          }
        },
        "94ede52a4cb74c00898adddc2047fb83": {
          "model_module": "@jupyter-widgets/base",
          "model_name": "LayoutModel",
          "model_module_version": "1.2.0",
          "state": {
            "_model_module": "@jupyter-widgets/base",
            "_model_module_version": "1.2.0",
            "_model_name": "LayoutModel",
            "_view_count": null,
            "_view_module": "@jupyter-widgets/base",
            "_view_module_version": "1.2.0",
            "_view_name": "LayoutView",
            "align_content": null,
            "align_items": null,
            "align_self": null,
            "border": null,
            "bottom": null,
            "display": null,
            "flex": null,
            "flex_flow": null,
            "grid_area": null,
            "grid_auto_columns": null,
            "grid_auto_flow": null,
            "grid_auto_rows": null,
            "grid_column": null,
            "grid_gap": null,
            "grid_row": null,
            "grid_template_areas": null,
            "grid_template_columns": null,
            "grid_template_rows": null,
            "height": null,
            "justify_content": null,
            "justify_items": null,
            "left": null,
            "margin": null,
            "max_height": null,
            "max_width": null,
            "min_height": null,
            "min_width": null,
            "object_fit": null,
            "object_position": null,
            "order": null,
            "overflow": null,
            "overflow_x": null,
            "overflow_y": null,
            "padding": null,
            "right": null,
            "top": null,
            "visibility": null,
            "width": null
          }
        },
        "951f918f07ed4c84a29c0f18978581de": {
          "model_module": "@jupyter-widgets/controls",
          "model_name": "DescriptionStyleModel",
          "model_module_version": "1.5.0",
          "state": {
            "_model_module": "@jupyter-widgets/controls",
            "_model_module_version": "1.5.0",
            "_model_name": "DescriptionStyleModel",
            "_view_count": null,
            "_view_module": "@jupyter-widgets/base",
            "_view_module_version": "1.2.0",
            "_view_name": "StyleView",
            "description_width": ""
          }
        },
        "cec9d1b7a933450290a181b25ed11512": {
          "model_module": "@jupyter-widgets/base",
          "model_name": "LayoutModel",
          "model_module_version": "1.2.0",
          "state": {
            "_model_module": "@jupyter-widgets/base",
            "_model_module_version": "1.2.0",
            "_model_name": "LayoutModel",
            "_view_count": null,
            "_view_module": "@jupyter-widgets/base",
            "_view_module_version": "1.2.0",
            "_view_name": "LayoutView",
            "align_content": null,
            "align_items": null,
            "align_self": null,
            "border": null,
            "bottom": null,
            "display": null,
            "flex": null,
            "flex_flow": null,
            "grid_area": null,
            "grid_auto_columns": null,
            "grid_auto_flow": null,
            "grid_auto_rows": null,
            "grid_column": null,
            "grid_gap": null,
            "grid_row": null,
            "grid_template_areas": null,
            "grid_template_columns": null,
            "grid_template_rows": null,
            "height": null,
            "justify_content": null,
            "justify_items": null,
            "left": null,
            "margin": null,
            "max_height": null,
            "max_width": null,
            "min_height": null,
            "min_width": null,
            "object_fit": null,
            "object_position": null,
            "order": null,
            "overflow": null,
            "overflow_x": null,
            "overflow_y": null,
            "padding": null,
            "right": null,
            "top": null,
            "visibility": null,
            "width": null
          }
        },
        "0f8b91530ed2496c8ccf208286918f02": {
          "model_module": "@jupyter-widgets/controls",
          "model_name": "ProgressStyleModel",
          "model_module_version": "1.5.0",
          "state": {
            "_model_module": "@jupyter-widgets/controls",
            "_model_module_version": "1.5.0",
            "_model_name": "ProgressStyleModel",
            "_view_count": null,
            "_view_module": "@jupyter-widgets/base",
            "_view_module_version": "1.2.0",
            "_view_name": "StyleView",
            "bar_color": null,
            "description_width": ""
          }
        },
        "b588b32ffd74478db25632eacab45eae": {
          "model_module": "@jupyter-widgets/base",
          "model_name": "LayoutModel",
          "model_module_version": "1.2.0",
          "state": {
            "_model_module": "@jupyter-widgets/base",
            "_model_module_version": "1.2.0",
            "_model_name": "LayoutModel",
            "_view_count": null,
            "_view_module": "@jupyter-widgets/base",
            "_view_module_version": "1.2.0",
            "_view_name": "LayoutView",
            "align_content": null,
            "align_items": null,
            "align_self": null,
            "border": null,
            "bottom": null,
            "display": null,
            "flex": null,
            "flex_flow": null,
            "grid_area": null,
            "grid_auto_columns": null,
            "grid_auto_flow": null,
            "grid_auto_rows": null,
            "grid_column": null,
            "grid_gap": null,
            "grid_row": null,
            "grid_template_areas": null,
            "grid_template_columns": null,
            "grid_template_rows": null,
            "height": null,
            "justify_content": null,
            "justify_items": null,
            "left": null,
            "margin": null,
            "max_height": null,
            "max_width": null,
            "min_height": null,
            "min_width": null,
            "object_fit": null,
            "object_position": null,
            "order": null,
            "overflow": null,
            "overflow_x": null,
            "overflow_y": null,
            "padding": null,
            "right": null,
            "top": null,
            "visibility": null,
            "width": null
          }
        },
        "5510e5a8bfc84237bfabbfa6e519e22c": {
          "model_module": "@jupyter-widgets/controls",
          "model_name": "DescriptionStyleModel",
          "model_module_version": "1.5.0",
          "state": {
            "_model_module": "@jupyter-widgets/controls",
            "_model_module_version": "1.5.0",
            "_model_name": "DescriptionStyleModel",
            "_view_count": null,
            "_view_module": "@jupyter-widgets/base",
            "_view_module_version": "1.2.0",
            "_view_name": "StyleView",
            "description_width": ""
          }
        }
      }
    }
  },
  "nbformat": 4,
  "nbformat_minor": 0
}